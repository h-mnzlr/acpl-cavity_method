{
 "cells": [
  {
   "cell_type": "markdown",
   "id": "7c048119",
   "metadata": {},
   "source": [
    "# Exercise 2.2 - Random Matrix theory"
   ]
  },
  {
   "cell_type": "code",
   "execution_count": 1,
   "id": "3f97599b",
   "metadata": {},
   "outputs": [],
   "source": [
    "import numpy as np\n",
    "import matplotlib.pyplot as plt\n",
    "from tqdm.notebook import tqdm as tqdm_\n",
    "\n",
    "import disordered_sys.generate"
   ]
  },
  {
   "cell_type": "code",
   "execution_count": 2,
   "id": "9d092461",
   "metadata": {
    "lines_to_next_cell": 1
   },
   "outputs": [],
   "source": [
    "epsilon = 1e-3\n",
    "c = 3\n",
    "n = 2**6\n",
    "lam = 0\n",
    "\n",
    "m, g = disordered_sys.generate.generate_m(c, n, return_g=True)"
   ]
  },
  {
   "cell_type": "code",
   "execution_count": 3,
   "id": "1e39f809",
   "metadata": {
    "lines_to_next_cell": 1
   },
   "outputs": [],
   "source": [
    "def get_neighbors(g, k, j=-1):\n",
    "    neighbors_set = set(g.neighbors(k)) - {j}\n",
    "    return np.array(list(neighbors_set))\n",
    "\n",
    "def marginal_equation(m, g, marg_precs, lam, k):\n",
    "    neighbor_idx = get_neighbors(g, k)\n",
    "    neighbor_weight = m[neighbor_idx, k]\n",
    "\n",
    "    return epsilon + 1j * lam + sum(neighbor_weight / marg_precs[neighbor_idx])\n",
    "\n",
    "def cavity_equation(m, g, cav_precs, lam, k, j):\n",
    "    neighbor_idx = get_neighbors(g, k, j)\n",
    "    neighbor_weight = m[neighbor_idx, k]\n",
    "    cav_idx = np.full_like(neighbor_idx, j)\n",
    "\n",
    "    return epsilon + 1j * lam + sum(\n",
    "        neighbor_weight / cav_precs[neighbor_idx, cav_idx]\n",
    "    )"
   ]
  },
  {
   "cell_type": "code",
   "execution_count": 4,
   "id": "e9dafdf0",
   "metadata": {},
   "outputs": [
    {
     "data": {
      "application/vnd.jupyter.widget-view+json": {
       "model_id": "b87d0acb8dd84297905af9ff2faf3d92",
       "version_major": 2,
       "version_minor": 0
      },
      "text/plain": [
       "  0%|          | 0/262144 [00:00<?, ?it/s]"
      ]
     },
     "metadata": {},
     "output_type": "display_data"
    },
    {
     "data": {
      "application/vnd.jupyter.widget-view+json": {
       "model_id": "2ca55a74a2444f2390c66a38db900161",
       "version_major": 2,
       "version_minor": 0
      },
      "text/plain": [
       "  0%|          | 0/262144 [00:00<?, ?it/s]"
      ]
     },
     "metadata": {},
     "output_type": "display_data"
    }
   ],
   "source": [
    "steps = n**3\n",
    "# cavity_precs = np.array([[np.inf] * n] * n, dtype=np.complex64)\n",
    "cavity_precs = np.ones((n, n)).astype(np.complex64)\n",
    "walker = iter(disordered_sys.random_walk.random_walk(g, steps))\n",
    "\n",
    "last = next(walker)\n",
    "for node in tqdm_(walker, total=steps):\n",
    "    cavity_precs[last,\n",
    "                 node] = cavity_equation(m, g, cavity_precs, lam, node, last)\n",
    "    last = node\n",
    "\n",
    "walker = iter(disordered_sys.random_walk.random_walk(g, steps=steps))\n",
    "for node in tqdm_(walker, total=steps):\n",
    "    cavity_precs[node,\n",
    "                 node] = cavity_equation(m, g, cavity_precs, lam, node, node)"
   ]
  },
  {
   "cell_type": "code",
   "execution_count": null,
   "id": "92eb4072",
   "metadata": {},
   "outputs": [],
   "source": [
    "# plt.scatter(np.arange(n), np.real(cavity_precs))\n",
    "# plt.ylim(-1e1, 1e1)\n",
    "plt.matshow(cavity_precs.real)\n",
    "plt.show()\n",
    "\n",
    "plt.matshow(cavity_precs.imag)\n",
    "plt.show()\n",
    "\n",
    "plt.hist(cavity_precs.real)\n",
    "plt.show()\n",
    "\n",
    "plt.scatter(np.arange(n), np.real(np.diag(cavity_precs)))\n",
    "plt.ylim(-1e1, 1e1)\n",
    "plt.show()"
   ]
  },
  {
   "cell_type": "code",
   "execution_count": null,
   "id": "c1fcce1c",
   "metadata": {},
   "outputs": [],
   "source": [
    "plt.hist(np.real(cavity_precs), range=(-10, 10), bins=100)"
   ]
  }
 ],
 "metadata": {
  "kernelspec": {
   "display_name": "Python 3 (ipykernel)",
   "language": "python",
   "name": "python3"
  },
  "language_info": {
   "codemirror_mode": {
    "name": "ipython",
    "version": 3
   },
   "file_extension": ".py",
   "mimetype": "text/x-python",
   "name": "python",
   "nbconvert_exporter": "python",
   "pygments_lexer": "ipython3",
   "version": "3.10.7"
  }
 },
 "nbformat": 4,
 "nbformat_minor": 5
}
