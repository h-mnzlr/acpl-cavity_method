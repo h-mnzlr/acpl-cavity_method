{
 "cells": [
  {
   "cell_type": "markdown",
   "id": "7c048119",
   "metadata": {},
   "source": [
    "# Exercise 2.2 - Random Matrix theory"
   ]
  },
  {
   "cell_type": "code",
   "execution_count": 1,
   "id": "3f97599b",
   "metadata": {},
   "outputs": [],
   "source": [
    "import numpy as np\n",
    "import networkx as nx\n",
    "\n",
    "import disordered_sys.generate"
   ]
  },
  {
   "cell_type": "code",
   "execution_count": 6,
   "id": "9d092461",
   "metadata": {},
   "outputs": [
    {
     "data": {
      "text/plain": [
       "array([327, 962, 644])"
      ]
     },
     "execution_count": 6,
     "metadata": {},
     "output_type": "execute_result"
    }
   ],
   "source": [
    "epsilon = 1e-3\n",
    "c = 3\n",
    "n = 2**11\n",
    "\n",
    "m, g = disordered_sys.generate.generate_m(c, n, return_g=True)\n",
    "\n",
    "np.array(list(g.neighbors(3)))\n",
    "\n",
    "k = 1\n",
    "j = g.neighbors(k)[1]\n",
    "set(g.neighbors(k)) - {j}"
   ]
  },
  {
   "cell_type": "code",
   "execution_count": 3,
   "id": "1e39f809",
   "metadata": {},
   "outputs": [],
   "source": [
    "def cavity_equation(neighbors, lam):\n",
    "    epsilon + 1j * lam + 1 / neighbour_prec"
   ]
  }
 ],
 "metadata": {
  "kernelspec": {
   "display_name": "Python 3 (ipykernel)",
   "language": "python",
   "name": "python3"
  },
  "language_info": {
   "codemirror_mode": {
    "name": "ipython",
    "version": 3
   },
   "file_extension": ".py",
   "mimetype": "text/x-python",
   "name": "python",
   "nbconvert_exporter": "python",
   "pygments_lexer": "ipython3",
   "version": "3.10.7"
  }
 },
 "nbformat": 4,
 "nbformat_minor": 5
}
