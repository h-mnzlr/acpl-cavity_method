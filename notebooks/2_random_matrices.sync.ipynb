{
 "cells": [
  {
   "cell_type": "markdown",
   "id": "7c048119",
   "metadata": {},
   "source": [
    "# Exercise 2.2 - Random Matrix theory"
   ]
  },
  {
   "cell_type": "code",
   "execution_count": 1,
   "id": "3f97599b",
   "metadata": {},
   "outputs": [],
   "source": [
    "from pathlib import Path\n",
    "\n",
    "import numpy as np\n",
    "import networkx as nx\n",
    "import scipy.sparse\n",
    "import matplotlib.pyplot as plt\n",
    "import tqdm.contrib.concurrent\n",
    "\n",
    "import disordered_sys.generate\n",
    "import disordered_sys.methods"
   ]
  },
  {
   "cell_type": "code",
   "execution_count": 2,
   "id": "9d092461",
   "metadata": {
    "lines_to_next_cell": 1
   },
   "outputs": [],
   "source": [
    "np.random.seed(42)\n",
    "epsilon = 1e-3\n",
    "c = 3\n",
    "n = 2**11\n",
    "lam = 0\n",
    "\n",
    "figure_dir = Path.cwd() / \"..\" / \"report\" / \"figures\"\n",
    "plt.rcParams['figure.dpi'] = 159\n",
    "plt.rcParams['savefig.dpi'] = 300\n",
    "plt.rcParams['font.size'] = 18\n",
    "\n",
    "\n",
    "m, g = disordered_sys.generate.generate_m(c, n, return_g=True)"
   ]
  },
  {
   "cell_type": "markdown",
   "id": "8c70569c",
   "metadata": {},
   "source": [
    "### Implement cavity equation"
   ]
  },
  {
   "cell_type": "code",
   "execution_count": 3,
   "id": "1e39f809",
   "metadata": {
    "lines_to_next_cell": 1
   },
   "outputs": [],
   "source": [
    "def get_neighbors(g, k, j=-1):\n",
    "    neighbors_set = set(g.neighbors(k)) - {j}\n",
    "    return np.array(list(neighbors_set))\n",
    "\n",
    "def cavity_equation(m, g, cav_precs, lam, k, j=-1):\n",
    "    n_idxs = get_neighbors(g, k, j)\n",
    "    n_weights = m[k, n_idxs]**2\n",
    "    prec_weights = cav_precs[k, n_idxs].todense()\n",
    "\n",
    "    return epsilon + 1j * lam + np.sum(n_weights / prec_weights)"
   ]
  },
  {
   "cell_type": "markdown",
   "id": "2795ffbc",
   "metadata": {},
   "source": [
    "### Initialize Marginal Cavity Precisions"
   ]
  },
  {
   "cell_type": "code",
   "execution_count": 4,
   "id": "e9dafdf0",
   "metadata": {},
   "outputs": [
    {
     "data": {
      "image/png": "[encoded data removed]",
      "text/plain": [
       "<Figure size 432x288 with 1 Axes>"
      ]
     },
     "metadata": {
      "needs_background": "light"
     },
     "output_type": "display_data"
    }
   ],
   "source": [
    "cavity_init = np.random.uniform(size=len(g.edges) * 2) + 1j * np.random.uniform(size=len(g.edges) * 2)\n",
    "plt.hist(cavity_init.real, alpha=.5)\n",
    "plt.hist(cavity_init.imag, alpha=.5)\n",
    "plt.savefig(figure_dir / \"ex2_cavity_init_hist.pdf\")"
   ]
  },
  {
   "cell_type": "code",
   "execution_count": 5,
   "id": "7aff84e9",
   "metadata": {},
   "outputs": [
    {
     "data": {
      "image/png": "[encoded data removed]",
      "text/plain": [
       "<Figure size 288x288 with 1 Axes>"
      ]
     },
     "metadata": {
      "needs_background": "light"
     },
     "output_type": "display_data"
    }
   ],
   "source": [
    "adj_mat = nx.to_scipy_sparse_array(g, nodelist=sorted(list(g.nodes())))\n",
    "cavity_init = adj_mat[adj_mat.nonzero()] * cavity_init\n",
    "cavity_precs = scipy.sparse.coo_matrix((cavity_init, adj_mat.nonzero()))\n",
    "cavity_precs = cavity_precs.tocsr(copy=False)\n",
    "plt.matshow(cavity_precs.todense().real)\n",
    "plt.savefig(figure_dir / \"ex2_cavity_init_mat.pdf\")"
   ]
  },
  {
   "cell_type": "code",
   "execution_count": 6,
   "id": "de0b3924",
   "metadata": {},
   "outputs": [],
   "source": [
    "def init_cavity_precs(g):\n",
    "    cavity_init = np.random.uniform(size=len(g.edges) * 2) + 1j * np.random.uniform(size=len(g.edges) * 2)\n",
    "    adj_mat = nx.to_scipy_sparse_array(g, nodelist=sorted(list(g.nodes())))\n",
    "    cavity_init = adj_mat[adj_mat.nonzero()] * cavity_init\n",
    "    cavity_precs = scipy.sparse.coo_matrix((cavity_init, adj_mat.nonzero()))\n",
    "    cavity_precs = cavity_precs.tocsr(copy=False)\n",
    "    return cavity_precs"
   ]
  },
  {
   "cell_type": "markdown",
   "id": "ea95cec1",
   "metadata": {},
   "source": [
    "### Run the Cavity method to obtain Marginal Cavity Precisions"
   ]
  },
  {
   "cell_type": "code",
   "execution_count": 7,
   "id": "8c6fe11e",
   "metadata": {
    "scrolled": true
   },
   "outputs": [
    {
     "name": "stdout",
     "output_type": "stream",
     "text": [
      "delta=9.1250e-07 steps=1.000000e+02\r"
     ]
    }
   ],
   "source": [
    "tol = 1e-10\n",
    "max_steps = 100\n",
    "\n",
    "delta = np.inf\n",
    "steps = 0\n",
    "while delta > tol and steps < max_steps:\n",
    "    reference = cavity_precs.copy()\n",
    "    for k, j in g.to_directed().edges:\n",
    "        cavity_precs[j, k] = cavity_equation(m, g, cavity_precs, lam, k, j)\n",
    "    delta = np.max(np.abs(cavity_precs - reference))\n",
    "    steps += 1\n",
    "    print(f\"{delta=:.4e} {steps=:e}\", end=\"\\r\")"
   ]
  },
  {
   "cell_type": "markdown",
   "id": "a762584a",
   "metadata": {},
   "source": [
    "### Calculate the Marginal Precisions"
   ]
  },
  {
   "cell_type": "code",
   "execution_count": 8,
   "id": "e78b70a7",
   "metadata": {
    "scrolled": true
   },
   "outputs": [
    {
     "name": "stdout",
     "output_type": "stream",
     "text": [
      "delta=1.4318e+03 steps=1.000000e+00\n",
      "delta=0.0000e+00 steps=2.000000e+00\n"
     ]
    }
   ],
   "source": [
    "marginals = np.mean(cavity_precs, axis=1)  # type: ignore\n",
    "\n",
    "delta = np.inf\n",
    "steps = 0\n",
    "while delta > tol and steps < max_steps:\n",
    "    reference = marginals.copy()\n",
    "    for k in g.nodes:\n",
    "        marginals[k] = cavity_equation(m, g, cavity_precs, lam, k)\n",
    "    delta = np.max(np.abs(marginals - reference))\n",
    "    steps += 1\n",
    "    print(f\"{delta=:.4e} {steps=:e}\")"
   ]
  },
  {
   "cell_type": "markdown",
   "id": "32cf3bc8",
   "metadata": {},
   "source": [
    "### Calculate the spectral density"
   ]
  },
  {
   "cell_type": "code",
   "execution_count": 9,
   "id": "e07b65e4",
   "metadata": {},
   "outputs": [
    {
     "name": "stdout",
     "output_type": "stream",
     "text": [
      "1.442220675720007\n"
     ]
    }
   ],
   "source": [
    "G_ii = 1j / marginals\n",
    "rho_lambda = G_ii.imag.mean() / np.pi\n",
    "print(rho_lambda)"
   ]
  },
  {
   "cell_type": "markdown",
   "id": "a7e284cb",
   "metadata": {},
   "source": [
    "### Sweep over different $\\lambda$"
   ]
  },
  {
   "cell_type": "code",
   "execution_count": 10,
   "id": "04829aa5",
   "metadata": {},
   "outputs": [],
   "source": [
    "def spectral_density(lam):\n",
    "    cavity_precs = init_cavity_precs(g)\n",
    "\n",
    "    delta = np.inf\n",
    "    steps = 0\n",
    "    while delta > tol and steps < max_steps:\n",
    "        reference = cavity_precs.copy()\n",
    "        for k, j in g.to_directed().edges:\n",
    "            cavity_precs[j, k] = cavity_equation(m, g, cavity_precs, lam, k, j)\n",
    "        delta = np.max(np.abs(cavity_precs - reference))\n",
    "        steps += 1\n",
    "\n",
    "\n",
    "    marginals = np.mean(cavity_precs, axis=1)  # type: ignore\n",
    "\n",
    "    delta = np.inf\n",
    "    steps = 0\n",
    "    while delta > tol and steps < max_steps:\n",
    "        reference = marginals.copy()\n",
    "        for k in g.nodes:\n",
    "            marginals[k] = cavity_equation(m, g, cavity_precs, lam, k)\n",
    "        delta = np.max(np.abs(marginals - reference))\n",
    "        steps += 1\n",
    "    \n",
    "    G_ii = 1j / marginals\n",
    "    rho_lambda = G_ii.imag.mean() / np.pi\n",
    "    return rho_lambda"
   ]
  },
  {
   "cell_type": "code",
   "execution_count": 11,
   "id": "db68eb3b",
   "metadata": {},
   "outputs": [
    {
     "data": {
      "application/vnd.jupyter.widget-view+json": {
       "model_id": "8245b572c7f6497b8cb99c4a74727de0",
       "version_major": 2,
       "version_minor": 0
      },
      "text/plain": [
       "  0%|          | 0/50 [00:00<?, ?it/s]"
      ]
     },
     "metadata": {},
     "output_type": "display_data"
    },
    {
     "data": {
      "image/png": "[encoded data removed]",
      "text/plain": [
       "<Figure size 432x288 with 1 Axes>"
      ]
     },
     "metadata": {
      "needs_background": "light"
     },
     "output_type": "display_data"
    }
   ],
   "source": [
    "epsilon = 1e-3\n",
    "lambdas = np.linspace(-3, 3, num=50)\n",
    "spectrum = tqdm.contrib.concurrent.process_map(spectral_density, lambdas)\n",
    "plt.plot(lambdas, spectrum)\n",
    "plt.title(f\"Spectral density from cavity method {epsilon=}\")\n",
    "plt.xlabel(\"$\\\\lambda$\")\n",
    "plt.ylabel(\"$\\\\rho(\\\\lambda)$\")\n",
    "plt.savefig(figure_dir / \"ex2_spectrum_eps_large.pdf\")"
   ]
  },
  {
   "cell_type": "markdown",
   "id": "b76771a6",
   "metadata": {},
   "source": [
    "### Check behaviour for different $\\varepsilon$"
   ]
  },
  {
   "cell_type": "code",
   "execution_count": 12,
   "id": "66dcb7b0",
   "metadata": {},
   "outputs": [
    {
     "data": {
      "application/vnd.jupyter.widget-view+json": {
       "model_id": "ec4ad8067f8041948dd399d8dbd1d648",
       "version_major": 2,
       "version_minor": 0
      },
      "text/plain": [
       "  0%|          | 0/50 [00:00<?, ?it/s]"
      ]
     },
     "metadata": {},
     "output_type": "display_data"
    },
    {
     "data": {
      "image/png": "[encoded data removed]",
      "text/plain": [
       "<Figure size 432x288 with 1 Axes>"
      ]
     },
     "metadata": {
      "needs_background": "light"
     },
     "output_type": "display_data"
    }
   ],
   "source": [
    "epsilon = 1e-5\n",
    "lambdas = np.linspace(-3, 3, num=50)\n",
    "spectrum = tqdm.contrib.concurrent.process_map(spectral_density, lambdas)\n",
    "plt.plot(lambdas, spectrum)\n",
    "plt.title(f\"Spectral density from cavity method {epsilon=}\")\n",
    "plt.xlabel(\"$\\\\lambda$\")\n",
    "plt.ylabel(\"$\\\\rho(\\\\lambda)$\")\n",
    "plt.savefig(figure_dir / \"ex2_spectrum_eps_medium.pdf\")"
   ]
  },
  {
   "cell_type": "code",
   "execution_count": 13,
   "id": "c96fdce9",
   "metadata": {},
   "outputs": [
    {
     "data": {
      "application/vnd.jupyter.widget-view+json": {
       "model_id": "bdd839be547749c2b37a0f07aca73851",
       "version_major": 2,
       "version_minor": 0
      },
      "text/plain": [
       "  0%|          | 0/50 [00:00<?, ?it/s]"
      ]
     },
     "metadata": {},
     "output_type": "display_data"
    },
    {
     "data": {
      "image/png": "[encoded data removed]",
      "text/plain": [
       "<Figure size 432x288 with 1 Axes>"
      ]
     },
     "metadata": {
      "needs_background": "light"
     },
     "output_type": "display_data"
    }
   ],
   "source": [
    "epsilon = 1e-8\n",
    "lambdas = np.linspace(-3, 3, num=50)\n",
    "spectrum = tqdm.contrib.concurrent.process_map(spectral_density, lambdas)\n",
    "plt.plot(lambdas, spectrum)\n",
    "plt.title(f\"Spectral density from cavity method {epsilon=}\")\n",
    "plt.xlabel(\"$\\\\lambda$\")\n",
    "plt.ylabel(\"$\\\\rho(\\\\lambda)$\")\n",
    "plt.savefig(figure_dir / \"ex2_spectrum_eps_small.pdf\")"
   ]
  }
 ],
 "metadata": {
  "jupytext": {
   "cell_metadata_filter": "-all",
   "notebook_metadata_filter": "-all"
  },
  "kernelspec": {
   "display_name": "Python 3 (ipykernel)",
   "language": "python",
   "name": "python3"
  },
  "language_info": {
   "codemirror_mode": {
    "name": "ipython",
    "version": 3
   },
   "file_extension": ".py",
   "mimetype": "text/x-python",
   "name": "python",
   "nbconvert_exporter": "python",
   "pygments_lexer": "ipython3",
   "version": "3.10.6"
  }
 },
 "nbformat": 4,
 "nbformat_minor": 5
}
