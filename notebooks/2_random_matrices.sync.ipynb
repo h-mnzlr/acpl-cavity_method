{
 "cells": [
  {
   "cell_type": "markdown",
   "id": "7c048119",
   "metadata": {},
   "source": [
    "# Exercise 2.2 - Random Matrix theory"
   ]
  },
  {
   "cell_type": "code",
   "execution_count": 17,
   "id": "3f97599b",
   "metadata": {},
   "outputs": [],
   "source": [
    "from pathlib import Path\n",
    "\n",
    "import numpy as np\n",
    "import networkx as nx\n",
    "import scipy.sparse\n",
    "import matplotlib.pyplot as plt\n",
    "import tqdm.contrib.concurrent\n",
    "\n",
    "import disordered_sys.generate\n",
    "import disordered_sys.methods"
   ]
  },
  {
   "cell_type": "code",
   "execution_count": 2,
   "id": "9d092461",
   "metadata": {
    "lines_to_next_cell": 1
   },
   "outputs": [],
   "source": [
    "epsilon = 1e-3\n",
    "c = 3\n",
    "n = 2**6\n",
    "lam = 0\n",
    "figure_dir = Path.cwd() / \"..\" / \"report\" / \"figures\"\n",
    "\n",
    "m, g = disordered_sys.generate.generate_m(c, n, return_g=True)"
   ]
  },
  {
   "cell_type": "markdown",
   "id": "8c70569c",
   "metadata": {},
   "source": [
    "### Implement cavity equation"
   ]
  },
  {
   "cell_type": "code",
   "execution_count": 3,
   "id": "1e39f809",
   "metadata": {
    "lines_to_next_cell": 1
   },
   "outputs": [],
   "source": [
    "def get_neighbors(g, k, j=-1):\n",
    "    neighbors_set = set(g.neighbors(k)) - {j}\n",
    "    return np.array(list(neighbors_set))\n",
    "\n",
    "def cavity_equation(m, g, cav_precs, lam, k, j=-1):\n",
    "    n_idxs = get_neighbors(g, k, j)\n",
    "    n_weights = m[k, n_idxs]**2\n",
    "    prec_weights = cav_precs[k, n_idxs].todense()\n",
    "\n",
    "    return epsilon + 1j * lam + np.sum(n_weights / prec_weights)"
   ]
  },
  {
   "cell_type": "markdown",
   "id": "2795ffbc",
   "metadata": {},
   "source": [
    "### Initialize Marginal Cavity Precisions"
   ]
  },
  {
   "cell_type": "code",
   "execution_count": 4,
   "id": "e9dafdf0",
   "metadata": {},
   "outputs": [
    {
     "data": {
      "image/png": "[encoded data removed]",
      "text/plain": [
       "<Figure size 432x288 with 1 Axes>"
      ]
     },
     "metadata": {
      "needs_background": "light"
     },
     "output_type": "display_data"
    }
   ],
   "source": [
    "cavity_init = np.random.uniform(size=len(g.edges) * 2) + 1j * np.random.uniform(size=len(g.edges) * 2)\n",
    "plt.hist(cavity_init.real, alpha=.5)\n",
    "plt.hist(cavity_init.imag, alpha=.5)\n",
    "plt.savefig(figure_dir / \"ex2_cavity_init_hist.pdf\")"
   ]
  },
  {
   "cell_type": "code",
   "execution_count": 5,
   "id": "7aff84e9",
   "metadata": {},
   "outputs": [
    {
     "data": {
      "image/png": "[encoded data removed]",
      "text/plain": [
       "<Figure size 288x288 with 1 Axes>"
      ]
     },
     "metadata": {
      "needs_background": "light"
     },
     "output_type": "display_data"
    }
   ],
   "source": [
    "adj_mat = nx.to_scipy_sparse_array(g, nodelist=sorted(list(g.nodes())))\n",
    "cavity_init = adj_mat[adj_mat.nonzero()] * cavity_init\n",
    "cavity_precs = scipy.sparse.coo_matrix((cavity_init, adj_mat.nonzero()))\n",
    "cavity_precs = cavity_precs.tocsr(copy=False)\n",
    "plt.matshow(cavity_precs.todense().real)\n",
    "plt.savefig(figure_dir / \"ex2_cavity_init_mat.pdf\")"
   ]
  },
  {
   "cell_type": "code",
   "execution_count": 6,
   "id": "de0b3924",
   "metadata": {},
   "outputs": [],
   "source": [
    "def init_cavity_precs(g):\n",
    "    cavity_init = np.random.uniform(size=len(g.edges) * 2) + 1j * np.random.uniform(size=len(g.edges) * 2)\n",
    "    adj_mat = nx.to_scipy_sparse_array(g, nodelist=sorted(list(g.nodes())))\n",
    "    cavity_init = adj_mat[adj_mat.nonzero()] * cavity_init\n",
    "    cavity_precs = scipy.sparse.coo_matrix((cavity_init, adj_mat.nonzero()))\n",
    "    cavity_precs = cavity_precs.tocsr(copy=False)\n",
    "    return cavity_precs"
   ]
  },
  {
   "cell_type": "markdown",
   "id": "ea95cec1",
   "metadata": {},
   "source": [
    "### Run the Cavity method to obtain Marginal Cavity Precisions"
   ]
  },
  {
   "cell_type": "code",
   "execution_count": 7,
   "id": "8c6fe11e",
   "metadata": {
    "scrolled": true
   },
   "outputs": [
    {
     "name": "stdout",
     "output_type": "stream",
     "text": [
      "delta=9.2668e-11\r"
     ]
    }
   ],
   "source": [
    "tol = 1e-10\n",
    "delta = np.inf\n",
    "\n",
    "while delta > tol:\n",
    "    reference = cavity_precs.copy()\n",
    "    for k, j in g.to_directed().edges:\n",
    "        cavity_precs[j, k] = cavity_equation(m, g, cavity_precs, lam, k, j)\n",
    "    delta = np.max(np.abs(cavity_precs - reference))\n",
    "    print(f\"{delta=:.4e}\", end=\"\\r\")"
   ]
  },
  {
   "cell_type": "markdown",
   "id": "9f18bea7",
   "metadata": {},
   "source": [
    "### Show the distributions of Marginal Cavity Precisions"
   ]
  },
  {
   "cell_type": "code",
   "execution_count": 8,
   "id": "dd63e984",
   "metadata": {},
   "outputs": [
    {
     "data": {
      "image/png": "[encoded data removed]",
      "text/plain": [
       "<Figure size 432x288 with 1 Axes>"
      ]
     },
     "metadata": {
      "needs_background": "light"
     },
     "output_type": "display_data"
    }
   ],
   "source": [
    "plt.hist(np.array(cavity_precs[cavity_precs.nonzero()]).flatten().real, bins=n // 2)\n",
    "plt.savefig(figure_dir / \"ex2_cavity_precs_real.pdf\")"
   ]
  },
  {
   "cell_type": "code",
   "execution_count": 9,
   "id": "0188de3d",
   "metadata": {},
   "outputs": [
    {
     "data": {
      "image/png": "[encoded data removed]",
      "text/plain": [
       "<Figure size 432x288 with 1 Axes>"
      ]
     },
     "metadata": {
      "needs_background": "light"
     },
     "output_type": "display_data"
    }
   ],
   "source": [
    "plt.hist(np.array(cavity_precs[cavity_precs.nonzero()]).flatten().imag, bins=n // 2)\n",
    "plt.savefig(figure_dir / \"ex2_cavity_precs_imag.pdf\")"
   ]
  },
  {
   "cell_type": "markdown",
   "id": "a762584a",
   "metadata": {},
   "source": [
    "### Calculate the Marginal Precisions"
   ]
  },
  {
   "cell_type": "code",
   "execution_count": 10,
   "id": "87c411fb",
   "metadata": {},
   "outputs": [
    {
     "name": "stdout",
     "output_type": "stream",
     "text": [
      "[[  1.91164796+2.50159751e-12j]\n",
      " [  3.13008161-1.35824208e-12j]\n",
      " [  0.44215902-4.25830860e-13j]\n",
      " [  8.0374374 -1.01438881e-12j]\n",
      " [213.98335338+1.15844658e-10j]\n",
      " [  0.33404266+7.47205576e-14j]\n",
      " [  5.23844967-1.06632066e-12j]\n",
      " [102.22845004-4.34609731e-11j]\n",
      " [  0.44980365-1.56875251e-13j]\n",
      " [  3.65351127+2.85428576e-12j]\n",
      " [  7.76093572-7.38283815e-12j]\n",
      " [  3.5260904 +2.96677783e-12j]\n",
      " [ 23.78830641+4.09851834e-12j]\n",
      " [  4.00019043+3.43916907e-12j]\n",
      " [ 10.20599236+7.42369602e-13j]\n",
      " [  1.94672712-1.07455600e-12j]\n",
      " [  0.96135835-3.89286549e-13j]\n",
      " [  0.55774889-3.33169679e-13j]\n",
      " [  7.48326457+5.35441996e-12j]\n",
      " [197.69294607+1.11390024e-10j]\n",
      " [ 98.1895416 -4.29787608e-11j]\n",
      " [  9.14062376-3.38077467e-13j]\n",
      " [  5.77082506+2.87413144e-12j]\n",
      " [  3.76175425-4.43333962e-13j]\n",
      " [  1.98996011-1.27522404e-12j]\n",
      " [  2.87560732-2.15922699e-12j]\n",
      " [  7.98764891+4.03272962e-12j]\n",
      " [  0.85182884+5.41679173e-13j]\n",
      " [  4.30308091-7.57796044e-13j]\n",
      " [ 37.8090844 +2.49737905e-11j]\n",
      " [  0.62948553+7.86387773e-14j]\n",
      " [  4.82768552-1.23485293e-12j]\n",
      " [  2.50495879-3.30375906e-12j]\n",
      " [  5.82310686+1.35367871e-12j]\n",
      " [ 16.44536035-4.39486538e-12j]\n",
      " [ 19.93986753-1.15142376e-11j]\n",
      " [  0.31745883-2.03995672e-13j]\n",
      " [  1.62101982+2.25700258e-12j]\n",
      " [ 14.49090626-1.30796254e-11j]\n",
      " [ 10.24911869+4.39763809e-12j]\n",
      " [  6.50364867+2.26854379e-12j]\n",
      " [  1.12333909+1.77045624e-14j]\n",
      " [  0.3091487 +1.09817896e-15j]\n",
      " [  2.36193287-6.11635134e-13j]\n",
      " [  3.1043993 +3.19891395e-13j]\n",
      " [  2.78173013-1.82238922e-12j]\n",
      " [ 17.3650458 +5.04596649e-13j]\n",
      " [ 10.5084499 -1.13402694e-11j]\n",
      " [  1.3814692 +5.91928168e-13j]\n",
      " [  0.50146365+9.96282652e-14j]\n",
      " [  2.38376907-6.68314189e-13j]\n",
      " [ 16.68608997+1.06191397e-12j]\n",
      " [  3.7103161 -1.82528846e-12j]\n",
      " [  4.11427336-2.82519398e-12j]\n",
      " [ 11.17079438-4.76235215e-12j]\n",
      " [  4.63328383-8.24776220e-13j]\n",
      " [ 28.62060375+1.35970765e-11j]\n",
      " [  0.64588545-1.45427066e-13j]\n",
      " [  2.94271908-2.18514130e-13j]\n",
      " [  9.49850867-1.50512594e-11j]\n",
      " [  4.34426162+4.23954851e-12j]\n",
      " [  0.71209059+2.96073998e-14j]\n",
      " [ 38.58303486+2.39565158e-11j]\n",
      " [  7.64850553+3.58602267e-12j]]\n"
     ]
    }
   ],
   "source": [
    "marginals = np.sum(cavity_precs, axis=1)  # type: ignore\n",
    "print(marginals)"
   ]
  },
  {
   "cell_type": "code",
   "execution_count": 11,
   "id": "e78b70a7",
   "metadata": {},
   "outputs": [
    {
     "data": {
      "image/png": "[encoded data removed]",
      "text/plain": [
       "<Figure size 432x288 with 1 Axes>"
      ]
     },
     "metadata": {
      "needs_background": "light"
     },
     "output_type": "display_data"
    }
   ],
   "source": [
    "plt.hist(marginals.real)\n",
    "plt.savefig(figure_dir / \"ex2_marginal_precs_real.pdf\")"
   ]
  },
  {
   "cell_type": "markdown",
   "id": "32cf3bc8",
   "metadata": {},
   "source": [
    "### Calculate the spectral density"
   ]
  },
  {
   "cell_type": "code",
   "execution_count": 12,
   "id": "e07b65e4",
   "metadata": {},
   "outputs": [
    {
     "name": "stdout",
     "output_type": "stream",
     "text": [
      "0.1788593179889133\n"
     ]
    }
   ],
   "source": [
    "G_ii = 1j / marginals\n",
    "rho_lambda = G_ii.imag.mean() / np.pi\n",
    "print(rho_lambda)"
   ]
  },
  {
   "cell_type": "markdown",
   "id": "a7e284cb",
   "metadata": {},
   "source": [
    "### Sweep over different $\\lambda$"
   ]
  },
  {
   "cell_type": "code",
   "execution_count": 18,
   "id": "04829aa5",
   "metadata": {},
   "outputs": [
    {
     "data": {
      "application/vnd.jupyter.widget-view+json": {
       "model_id": "73f4eaef88b741fa8b820c8b59fc0f8b",
       "version_major": 2,
       "version_minor": 0
      },
      "text/plain": [
       "  0%|          | 0/100 [00:00<?, ?it/s]"
      ]
     },
     "metadata": {},
     "output_type": "display_data"
    },
    {
     "name": "stderr",
     "output_type": "stream",
     "text": [
      "Process ForkProcess-2:\n",
      "Process ForkProcess-8:\n",
      "Process ForkProcess-7:\n",
      "Process ForkProcess-6:\n",
      "\n",
      "KeyboardInterrupt\n",
      "\n",
      "Process ForkProcess-3:\n",
      "Traceback (most recent call last):\n"
     ]
    },
    {
     "name": "stdout",
     "output_type": "stream",
     "text": [
      "2022-10-11T17:00:07.623140+0200 - Timed out waiting for syncing to complete.\n"
     ]
    },
    {
     "name": "stderr",
     "output_type": "stream",
     "text": [
      "Process ForkProcess-5:\n",
      "Process ForkProcess-1:\n",
      "Traceback (most recent call last):\n",
      "Traceback (most recent call last):\n",
      "Traceback (most recent call last):\n",
      "Traceback (most recent call last):\n",
      "Traceback (most recent call last):\n",
      "  File \"/usr/lib/python3.10/multiprocessing/process.py\", line 314, in _bootstrap\n",
      "    self.run()\n",
      "  File \"/usr/lib/python3.10/multiprocessing/process.py\", line 314, in _bootstrap\n",
      "    self.run()\n",
      "  File \"/usr/lib/python3.10/multiprocessing/process.py\", line 314, in _bootstrap\n",
      "    self.run()\n",
      "  File \"/usr/lib/python3.10/multiprocessing/process.py\", line 314, in _bootstrap\n",
      "    self.run()\n",
      "  File \"/usr/lib/python3.10/multiprocessing/process.py\", line 314, in _bootstrap\n",
      "    self.run()\n",
      "  File \"/usr/lib/python3.10/multiprocessing/process.py\", line 314, in _bootstrap\n",
      "    self.run()\n",
      "  File \"/usr/lib/python3.10/multiprocessing/process.py\", line 108, in run\n",
      "    self._target(*self._args, **self._kwargs)\n",
      "Traceback (most recent call last):\n",
      "  File \"/usr/lib/python3.10/multiprocessing/process.py\", line 108, in run\n",
      "    self._target(*self._args, **self._kwargs)\n",
      "  File \"/usr/lib/python3.10/multiprocessing/process.py\", line 108, in run\n",
      "    self._target(*self._args, **self._kwargs)\n",
      "  File \"/usr/lib/python3.10/multiprocessing/process.py\", line 314, in _bootstrap\n",
      "    self.run()\n",
      "  File \"/usr/lib/python3.10/multiprocessing/process.py\", line 108, in run\n",
      "    self._target(*self._args, **self._kwargs)\n",
      "  File \"/usr/lib/python3.10/concurrent/futures/process.py\", line 240, in _process_worker\n",
      "    call_item = call_queue.get(block=True)\n",
      "  File \"/usr/lib/python3.10/concurrent/futures/process.py\", line 240, in _process_worker\n",
      "    call_item = call_queue.get(block=True)\n",
      "  File \"/usr/lib/python3.10/concurrent/futures/process.py\", line 240, in _process_worker\n",
      "    call_item = call_queue.get(block=True)\n",
      "  File \"/usr/lib/python3.10/multiprocessing/process.py\", line 108, in run\n",
      "    self._target(*self._args, **self._kwargs)\n",
      "  File \"/usr/lib/python3.10/multiprocessing/process.py\", line 108, in run\n",
      "    self._target(*self._args, **self._kwargs)\n",
      "  File \"/usr/lib/python3.10/concurrent/futures/process.py\", line 240, in _process_worker\n",
      "    call_item = call_queue.get(block=True)\n",
      "  File \"/usr/lib/python3.10/multiprocessing/queues.py\", line 102, in get\n",
      "    with self._rlock:\n",
      "  File \"/usr/lib/python3.10/multiprocessing/process.py\", line 108, in run\n",
      "    self._target(*self._args, **self._kwargs)\n",
      "  File \"/usr/lib/python3.10/multiprocessing/queues.py\", line 102, in get\n",
      "    with self._rlock:\n",
      "  File \"/usr/lib/python3.10/multiprocessing/queues.py\", line 102, in get\n",
      "    with self._rlock:\n",
      "  File \"/usr/lib/python3.10/concurrent/futures/process.py\", line 240, in _process_worker\n",
      "    call_item = call_queue.get(block=True)\n",
      "  File \"/usr/lib/python3.10/multiprocessing/synchronize.py\", line 95, in __enter__\n",
      "    return self._semlock.__enter__()\n",
      "  File \"/usr/lib/python3.10/concurrent/futures/process.py\", line 240, in _process_worker\n",
      "    call_item = call_queue.get(block=True)\n",
      "KeyboardInterrupt\n",
      "  File \"/usr/lib/python3.10/multiprocessing/synchronize.py\", line 95, in __enter__\n",
      "    return self._semlock.__enter__()\n",
      "  File \"/usr/lib/python3.10/concurrent/futures/process.py\", line 240, in _process_worker\n",
      "    call_item = call_queue.get(block=True)\n",
      "  File \"/usr/lib/python3.10/multiprocessing/queues.py\", line 102, in get\n",
      "    with self._rlock:\n",
      "  File \"/usr/lib/python3.10/multiprocessing/queues.py\", line 102, in get\n",
      "    with self._rlock:\n",
      "  File \"/usr/lib/python3.10/multiprocessing/synchronize.py\", line 95, in __enter__\n",
      "    return self._semlock.__enter__()\n",
      "  File \"/usr/lib/python3.10/multiprocessing/synchronize.py\", line 95, in __enter__\n",
      "    return self._semlock.__enter__()\n",
      "  File \"/usr/lib/python3.10/multiprocessing/synchronize.py\", line 95, in __enter__\n",
      "    return self._semlock.__enter__()\n",
      "KeyboardInterrupt\n",
      "KeyboardInterrupt\n",
      "KeyboardInterrupt\n",
      "KeyboardInterrupt\n",
      "  File \"/usr/lib/python3.10/multiprocessing/queues.py\", line 102, in get\n",
      "    with self._rlock:\n",
      "  File \"/usr/lib/python3.10/multiprocessing/queues.py\", line 103, in get\n",
      "    res = self._recv_bytes()\n",
      "  File \"/usr/lib/python3.10/multiprocessing/synchronize.py\", line 95, in __enter__\n",
      "    return self._semlock.__enter__()\n",
      "  File \"/usr/lib/python3.10/multiprocessing/connection.py\", line 221, in recv_bytes\n",
      "    buf = self._recv_bytes(maxlength)\n",
      "KeyboardInterrupt\n",
      "  File \"/usr/lib/python3.10/multiprocessing/connection.py\", line 419, in _recv_bytes\n",
      "    buf = self._recv(4)\n",
      "  File \"/usr/lib/python3.10/multiprocessing/connection.py\", line 384, in _recv\n",
      "    chunk = read(handle, remaining)\n",
      "KeyboardInterrupt\n",
      "Process ForkProcess-4:\n",
      "Traceback (most recent call last):\n",
      "  File \"/usr/lib/python3.10/multiprocessing/process.py\", line 314, in _bootstrap\n",
      "    self.run()\n",
      "  File \"/usr/lib/python3.10/multiprocessing/process.py\", line 108, in run\n",
      "    self._target(*self._args, **self._kwargs)\n",
      "  File \"/usr/lib/python3.10/concurrent/futures/process.py\", line 240, in _process_worker\n",
      "    call_item = call_queue.get(block=True)\n",
      "  File \"/usr/lib/python3.10/multiprocessing/queues.py\", line 102, in get\n",
      "    with self._rlock:\n",
      "  File \"/usr/lib/python3.10/multiprocessing/synchronize.py\", line 95, in __enter__\n",
      "    return self._semlock.__enter__()\n",
      "KeyboardInterrupt\n"
     ]
    }
   ],
   "source": [
    "lambdas = np.linspace(-3, 3, num=100)\n",
    "\n",
    "def spectral_density(lam):\n",
    "    cavity_precs = init_cavity_precs(g)\n",
    "\n",
    "    delta = np.inf\n",
    "    while delta > tol:\n",
    "        reference = cavity_precs.copy()\n",
    "        for k, j in g.to_directed().edges:\n",
    "            cavity_precs[j, k] = cavity_equation(m, g, cavity_precs, lam, k, j)\n",
    "        delta = np.max(np.abs(cavity_precs - reference))\n",
    "\n",
    "    marginals = np.sum(cavity_precs, axis=1)  # type: ignore\n",
    "    G_ii = 1j / marginals\n",
    "    rho_lambda = G_ii.imag.mean() / np.pi\n",
    "    return rho_lambda\n",
    "\n",
    "tqdm.contrib.concurrent.process_map(spectral_density, lambdas)"
   ]
  },
  {
   "cell_type": "code",
   "execution_count": 20,
   "id": "ed5d0e66",
   "metadata": {},
   "outputs": [
    {
     "ename": "TypeError",
     "evalue": "float() argument must be a string or a real number, not 'function'",
     "output_type": "error",
     "traceback": [
      "\u001b[0;31m---------------------------------------------------------------------------\u001b[0m",
      "\u001b[0;31mTypeError\u001b[0m                                 Traceback (most recent call last)",
      "Input \u001b[0;32mIn [20]\u001b[0m, in \u001b[0;36m<cell line: 1>\u001b[0;34m()\u001b[0m\n\u001b[0;32m----> 1\u001b[0m \u001b[43mplt\u001b[49m\u001b[38;5;241;43m.\u001b[39;49m\u001b[43mplot\u001b[49m\u001b[43m(\u001b[49m\u001b[43mspectral_density\u001b[49m\u001b[43m)\u001b[49m\n",
      "File \u001b[0;32m~/sose2022/Advanced_Computational_Physics_Lab./proj2_disordered_systems/env/lib/python3.10/site-packages/matplotlib/pyplot.py:2769\u001b[0m, in \u001b[0;36mplot\u001b[0;34m(scalex, scaley, data, *args, **kwargs)\u001b[0m\n\u001b[1;32m   2767\u001b[0m \u001b[38;5;129m@_copy_docstring_and_deprecators\u001b[39m(Axes\u001b[38;5;241m.\u001b[39mplot)\n\u001b[1;32m   2768\u001b[0m \u001b[38;5;28;01mdef\u001b[39;00m \u001b[38;5;21mplot\u001b[39m(\u001b[38;5;241m*\u001b[39margs, scalex\u001b[38;5;241m=\u001b[39m\u001b[38;5;28;01mTrue\u001b[39;00m, scaley\u001b[38;5;241m=\u001b[39m\u001b[38;5;28;01mTrue\u001b[39;00m, data\u001b[38;5;241m=\u001b[39m\u001b[38;5;28;01mNone\u001b[39;00m, \u001b[38;5;241m*\u001b[39m\u001b[38;5;241m*\u001b[39mkwargs):\n\u001b[0;32m-> 2769\u001b[0m     \u001b[38;5;28;01mreturn\u001b[39;00m \u001b[43mgca\u001b[49m\u001b[43m(\u001b[49m\u001b[43m)\u001b[49m\u001b[38;5;241;43m.\u001b[39;49m\u001b[43mplot\u001b[49m\u001b[43m(\u001b[49m\n\u001b[1;32m   2770\u001b[0m \u001b[43m        \u001b[49m\u001b[38;5;241;43m*\u001b[39;49m\u001b[43margs\u001b[49m\u001b[43m,\u001b[49m\u001b[43m \u001b[49m\u001b[43mscalex\u001b[49m\u001b[38;5;241;43m=\u001b[39;49m\u001b[43mscalex\u001b[49m\u001b[43m,\u001b[49m\u001b[43m \u001b[49m\u001b[43mscaley\u001b[49m\u001b[38;5;241;43m=\u001b[39;49m\u001b[43mscaley\u001b[49m\u001b[43m,\u001b[49m\n\u001b[1;32m   2771\u001b[0m \u001b[43m        \u001b[49m\u001b[38;5;241;43m*\u001b[39;49m\u001b[38;5;241;43m*\u001b[39;49m\u001b[43m(\u001b[49m\u001b[43m{\u001b[49m\u001b[38;5;124;43m\"\u001b[39;49m\u001b[38;5;124;43mdata\u001b[39;49m\u001b[38;5;124;43m\"\u001b[39;49m\u001b[43m:\u001b[49m\u001b[43m \u001b[49m\u001b[43mdata\u001b[49m\u001b[43m}\u001b[49m\u001b[43m \u001b[49m\u001b[38;5;28;43;01mif\u001b[39;49;00m\u001b[43m \u001b[49m\u001b[43mdata\u001b[49m\u001b[43m \u001b[49m\u001b[38;5;129;43;01mis\u001b[39;49;00m\u001b[43m \u001b[49m\u001b[38;5;129;43;01mnot\u001b[39;49;00m\u001b[43m \u001b[49m\u001b[38;5;28;43;01mNone\u001b[39;49;00m\u001b[43m \u001b[49m\u001b[38;5;28;43;01melse\u001b[39;49;00m\u001b[43m \u001b[49m\u001b[43m{\u001b[49m\u001b[43m}\u001b[49m\u001b[43m)\u001b[49m\u001b[43m,\u001b[49m\u001b[43m \u001b[49m\u001b[38;5;241;43m*\u001b[39;49m\u001b[38;5;241;43m*\u001b[39;49m\u001b[43mkwargs\u001b[49m\u001b[43m)\u001b[49m\n",
      "File \u001b[0;32m~/sose2022/Advanced_Computational_Physics_Lab./proj2_disordered_systems/env/lib/python3.10/site-packages/matplotlib/axes/_axes.py:1634\u001b[0m, in \u001b[0;36mAxes.plot\u001b[0;34m(self, scalex, scaley, data, *args, **kwargs)\u001b[0m\n\u001b[1;32m   1632\u001b[0m lines \u001b[38;5;241m=\u001b[39m [\u001b[38;5;241m*\u001b[39m\u001b[38;5;28mself\u001b[39m\u001b[38;5;241m.\u001b[39m_get_lines(\u001b[38;5;241m*\u001b[39margs, data\u001b[38;5;241m=\u001b[39mdata, \u001b[38;5;241m*\u001b[39m\u001b[38;5;241m*\u001b[39mkwargs)]\n\u001b[1;32m   1633\u001b[0m \u001b[38;5;28;01mfor\u001b[39;00m line \u001b[38;5;129;01min\u001b[39;00m lines:\n\u001b[0;32m-> 1634\u001b[0m     \u001b[38;5;28;43mself\u001b[39;49m\u001b[38;5;241;43m.\u001b[39;49m\u001b[43madd_line\u001b[49m\u001b[43m(\u001b[49m\u001b[43mline\u001b[49m\u001b[43m)\u001b[49m\n\u001b[1;32m   1635\u001b[0m \u001b[38;5;28mself\u001b[39m\u001b[38;5;241m.\u001b[39m_request_autoscale_view(scalex\u001b[38;5;241m=\u001b[39mscalex, scaley\u001b[38;5;241m=\u001b[39mscaley)\n\u001b[1;32m   1636\u001b[0m \u001b[38;5;28;01mreturn\u001b[39;00m lines\n",
      "File \u001b[0;32m~/sose2022/Advanced_Computational_Physics_Lab./proj2_disordered_systems/env/lib/python3.10/site-packages/matplotlib/axes/_base.py:2288\u001b[0m, in \u001b[0;36m_AxesBase.add_line\u001b[0;34m(self, line)\u001b[0m\n\u001b[1;32m   2285\u001b[0m \u001b[38;5;28;01mif\u001b[39;00m line\u001b[38;5;241m.\u001b[39mget_clip_path() \u001b[38;5;129;01mis\u001b[39;00m \u001b[38;5;28;01mNone\u001b[39;00m:\n\u001b[1;32m   2286\u001b[0m     line\u001b[38;5;241m.\u001b[39mset_clip_path(\u001b[38;5;28mself\u001b[39m\u001b[38;5;241m.\u001b[39mpatch)\n\u001b[0;32m-> 2288\u001b[0m \u001b[38;5;28;43mself\u001b[39;49m\u001b[38;5;241;43m.\u001b[39;49m\u001b[43m_update_line_limits\u001b[49m\u001b[43m(\u001b[49m\u001b[43mline\u001b[49m\u001b[43m)\u001b[49m\n\u001b[1;32m   2289\u001b[0m \u001b[38;5;28;01mif\u001b[39;00m \u001b[38;5;129;01mnot\u001b[39;00m line\u001b[38;5;241m.\u001b[39mget_label():\n\u001b[1;32m   2290\u001b[0m     line\u001b[38;5;241m.\u001b[39mset_label(\u001b[38;5;124mf\u001b[39m\u001b[38;5;124m'\u001b[39m\u001b[38;5;124m_child\u001b[39m\u001b[38;5;132;01m{\u001b[39;00m\u001b[38;5;28mlen\u001b[39m(\u001b[38;5;28mself\u001b[39m\u001b[38;5;241m.\u001b[39m_children)\u001b[38;5;132;01m}\u001b[39;00m\u001b[38;5;124m'\u001b[39m)\n",
      "File \u001b[0;32m~/sose2022/Advanced_Computational_Physics_Lab./proj2_disordered_systems/env/lib/python3.10/site-packages/matplotlib/axes/_base.py:2311\u001b[0m, in \u001b[0;36m_AxesBase._update_line_limits\u001b[0;34m(self, line)\u001b[0m\n\u001b[1;32m   2307\u001b[0m \u001b[38;5;28;01mdef\u001b[39;00m \u001b[38;5;21m_update_line_limits\u001b[39m(\u001b[38;5;28mself\u001b[39m, line):\n\u001b[1;32m   2308\u001b[0m     \u001b[38;5;124;03m\"\"\"\u001b[39;00m\n\u001b[1;32m   2309\u001b[0m \u001b[38;5;124;03m    Figures out the data limit of the given line, updating self.dataLim.\u001b[39;00m\n\u001b[1;32m   2310\u001b[0m \u001b[38;5;124;03m    \"\"\"\u001b[39;00m\n\u001b[0;32m-> 2311\u001b[0m     path \u001b[38;5;241m=\u001b[39m \u001b[43mline\u001b[49m\u001b[38;5;241;43m.\u001b[39;49m\u001b[43mget_path\u001b[49m\u001b[43m(\u001b[49m\u001b[43m)\u001b[49m\n\u001b[1;32m   2312\u001b[0m     \u001b[38;5;28;01mif\u001b[39;00m path\u001b[38;5;241m.\u001b[39mvertices\u001b[38;5;241m.\u001b[39msize \u001b[38;5;241m==\u001b[39m \u001b[38;5;241m0\u001b[39m:\n\u001b[1;32m   2313\u001b[0m         \u001b[38;5;28;01mreturn\u001b[39;00m\n",
      "File \u001b[0;32m~/sose2022/Advanced_Computational_Physics_Lab./proj2_disordered_systems/env/lib/python3.10/site-packages/matplotlib/lines.py:999\u001b[0m, in \u001b[0;36mLine2D.get_path\u001b[0;34m(self)\u001b[0m\n\u001b[1;32m    997\u001b[0m \u001b[38;5;124;03m\"\"\"Return the `~matplotlib.path.Path` associated with this line.\"\"\"\u001b[39;00m\n\u001b[1;32m    998\u001b[0m \u001b[38;5;28;01mif\u001b[39;00m \u001b[38;5;28mself\u001b[39m\u001b[38;5;241m.\u001b[39m_invalidy \u001b[38;5;129;01mor\u001b[39;00m \u001b[38;5;28mself\u001b[39m\u001b[38;5;241m.\u001b[39m_invalidx:\n\u001b[0;32m--> 999\u001b[0m     \u001b[38;5;28;43mself\u001b[39;49m\u001b[38;5;241;43m.\u001b[39;49m\u001b[43mrecache\u001b[49m\u001b[43m(\u001b[49m\u001b[43m)\u001b[49m\n\u001b[1;32m   1000\u001b[0m \u001b[38;5;28;01mreturn\u001b[39;00m \u001b[38;5;28mself\u001b[39m\u001b[38;5;241m.\u001b[39m_path\n",
      "File \u001b[0;32m~/sose2022/Advanced_Computational_Physics_Lab./proj2_disordered_systems/env/lib/python3.10/site-packages/matplotlib/lines.py:657\u001b[0m, in \u001b[0;36mLine2D.recache\u001b[0;34m(self, always)\u001b[0m\n\u001b[1;32m    655\u001b[0m \u001b[38;5;28;01mif\u001b[39;00m always \u001b[38;5;129;01mor\u001b[39;00m \u001b[38;5;28mself\u001b[39m\u001b[38;5;241m.\u001b[39m_invalidy:\n\u001b[1;32m    656\u001b[0m     yconv \u001b[38;5;241m=\u001b[39m \u001b[38;5;28mself\u001b[39m\u001b[38;5;241m.\u001b[39mconvert_yunits(\u001b[38;5;28mself\u001b[39m\u001b[38;5;241m.\u001b[39m_yorig)\n\u001b[0;32m--> 657\u001b[0m     y \u001b[38;5;241m=\u001b[39m \u001b[43m_to_unmasked_float_array\u001b[49m\u001b[43m(\u001b[49m\u001b[43myconv\u001b[49m\u001b[43m)\u001b[49m\u001b[38;5;241m.\u001b[39mravel()\n\u001b[1;32m    658\u001b[0m \u001b[38;5;28;01melse\u001b[39;00m:\n\u001b[1;32m    659\u001b[0m     y \u001b[38;5;241m=\u001b[39m \u001b[38;5;28mself\u001b[39m\u001b[38;5;241m.\u001b[39m_y\n",
      "File \u001b[0;32m~/sose2022/Advanced_Computational_Physics_Lab./proj2_disordered_systems/env/lib/python3.10/site-packages/matplotlib/cbook/__init__.py:1298\u001b[0m, in \u001b[0;36m_to_unmasked_float_array\u001b[0;34m(x)\u001b[0m\n\u001b[1;32m   1296\u001b[0m     \u001b[38;5;28;01mreturn\u001b[39;00m np\u001b[38;5;241m.\u001b[39mma\u001b[38;5;241m.\u001b[39masarray(x, \u001b[38;5;28mfloat\u001b[39m)\u001b[38;5;241m.\u001b[39mfilled(np\u001b[38;5;241m.\u001b[39mnan)\n\u001b[1;32m   1297\u001b[0m \u001b[38;5;28;01melse\u001b[39;00m:\n\u001b[0;32m-> 1298\u001b[0m     \u001b[38;5;28;01mreturn\u001b[39;00m \u001b[43mnp\u001b[49m\u001b[38;5;241;43m.\u001b[39;49m\u001b[43masarray\u001b[49m\u001b[43m(\u001b[49m\u001b[43mx\u001b[49m\u001b[43m,\u001b[49m\u001b[43m \u001b[49m\u001b[38;5;28;43mfloat\u001b[39;49m\u001b[43m)\u001b[49m\n",
      "\u001b[0;31mTypeError\u001b[0m: float() argument must be a string or a real number, not 'function'"
     ]
    },
    {
     "data": {
      "image/png": "[encoded data removed]",
      "text/plain": [
       "<Figure size 432x288 with 1 Axes>"
      ]
     },
     "metadata": {
      "needs_background": "light"
     },
     "output_type": "display_data"
    }
   ],
   "source": [
    "plt.plot(spectral_density)"
   ]
  }
 ],
 "metadata": {
  "jupytext": {
   "cell_metadata_filter": "-all",
   "notebook_metadata_filter": "-all"
  },
  "kernelspec": {
   "display_name": "Python 3 (ipykernel)",
   "language": "python",
   "name": "python3"
  },
  "language_info": {
   "codemirror_mode": {
    "name": "ipython",
    "version": 3
   },
   "file_extension": ".py",
   "mimetype": "text/x-python",
   "name": "python",
   "nbconvert_exporter": "python",
   "pygments_lexer": "ipython3",
   "version": "3.10.7"
  }
 },
 "nbformat": 4,
 "nbformat_minor": 5
}
