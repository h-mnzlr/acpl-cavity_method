{
 "cells": [
  {
   "cell_type": "markdown",
   "id": "7c048119",
   "metadata": {},
   "source": [
    "# Exercise 2.2 - Random Matrix theory"
   ]
  },
  {
   "cell_type": "code",
   "execution_count": 1,
   "id": "3f97599b",
   "metadata": {},
   "outputs": [],
   "source": [
    "from pathlib import Path\n",
    "\n",
    "import numpy as np\n",
    "import networkx as nx\n",
    "import scipy.sparse\n",
    "import matplotlib.pyplot as plt\n",
    "import tqdm.contrib.concurrent\n",
    "\n",
    "import disordered_sys.generate\n",
    "import disordered_sys.methods"
   ]
  },
  {
   "cell_type": "code",
   "execution_count": 2,
   "id": "9d092461",
   "metadata": {
    "lines_to_next_cell": 1
   },
   "outputs": [],
   "source": [
    "epsilon = 1e-3\n",
    "c = 3\n",
    "n = 2**10\n",
    "lam = 0\n",
    "figure_dir = Path.cwd() / \"..\" / \"report\" / \"figures\"\n",
    "\n",
    "m, g = disordered_sys.generate.generate_m(c, n, return_g=True)"
   ]
  },
  {
   "cell_type": "markdown",
   "id": "bf8f0748",
   "metadata": {},
   "source": [
    "### Implement cavity equation"
   ]
  },
  {
   "cell_type": "code",
   "execution_count": 3,
   "id": "1e39f809",
   "metadata": {
    "lines_to_next_cell": 1
   },
   "outputs": [],
   "source": [
    "def get_neighbors(g, k, j=-1):\n",
    "    neighbors_set = set(g.neighbors(k)) - {j}\n",
    "    return np.array(list(neighbors_set))\n",
    "\n",
    "def cavity_equation(m, g, cav_precs, lam, k, j=-1):\n",
    "    n_idxs = get_neighbors(g, k, j)\n",
    "    n_weights = m[k, n_idxs]**2\n",
    "    prec_weights = cav_precs[k, n_idxs].todense()\n",
    "\n",
    "    return epsilon + 1j * lam + np.sum(n_weights / prec_weights)"
   ]
  },
  {
   "cell_type": "markdown",
   "id": "40547711",
   "metadata": {},
   "source": [
    "### Initialize Marginal Cavity Precisions"
   ]
  },
  {
   "cell_type": "code",
   "execution_count": 4,
   "id": "e9dafdf0",
   "metadata": {},
   "outputs": [
    {
     "data": {
      "image/png": "[encoded data removed]",
      "text/plain": [
       "<Figure size 432x288 with 1 Axes>"
      ]
     },
     "metadata": {
      "needs_background": "light"
     },
     "output_type": "display_data"
    }
   ],
   "source": [
    "cavity_init = np.random.uniform(size=len(g.edges) * 2) + 1j * np.random.uniform(size=len(g.edges) * 2)\n",
    "plt.hist(cavity_init.real, alpha=.5)\n",
    "plt.hist(cavity_init.imag, alpha=.5)\n",
    "plt.savefig(figure_dir / \"ex2_cavity_init_hist.pdf\")"
   ]
  },
  {
   "cell_type": "code",
   "execution_count": 5,
   "id": "3068cef7",
   "metadata": {},
   "outputs": [
    {
     "data": {
      "image/png": "[encoded data removed]",
      "text/plain": [
       "<Figure size 288x288 with 1 Axes>"
      ]
     },
     "metadata": {
      "needs_background": "light"
     },
     "output_type": "display_data"
    }
   ],
   "source": [
    "adj_mat = nx.to_scipy_sparse_array(g, nodelist=sorted(list(g.nodes())))\n",
    "cavity_init = adj_mat[adj_mat.nonzero()] * cavity_init\n",
    "cavity_precs = scipy.sparse.coo_matrix((cavity_init, adj_mat.nonzero()))\n",
    "cavity_precs = cavity_precs.tocsr(copy=False)\n",
    "plt.matshow(cavity_precs.todense().real)\n",
    "plt.savefig(figure_dir / \"ex2_cavity_init_mat.pdf\")"
   ]
  },
  {
   "cell_type": "code",
   "execution_count": 6,
   "id": "7d262658",
   "metadata": {},
   "outputs": [],
   "source": [
    "def init_cavity_precs(g):\n",
    "    cavity_init = np.random.uniform(size=len(g.edges) * 2) + 1j * np.random.uniform(size=len(g.edges) * 2)\n",
    "    adj_mat = nx.to_scipy_sparse_array(g, nodelist=sorted(list(g.nodes())))\n",
    "    cavity_init = adj_mat[adj_mat.nonzero()] * cavity_init\n",
    "    cavity_precs = scipy.sparse.coo_matrix((cavity_init, adj_mat.nonzero()))\n",
    "    cavity_precs = cavity_precs.tocsr(copy=False)\n",
    "    return cavity_precs"
   ]
  },
  {
   "cell_type": "markdown",
   "id": "6a6faf50",
   "metadata": {},
   "source": [
    "### Run the Cavity method to obtain Marginal Cavity Precisions"
   ]
  },
  {
   "cell_type": "code",
   "execution_count": 7,
   "id": "15afd8f7",
   "metadata": {
    "scrolled": true
   },
   "outputs": [
    {
     "name": "stdout",
     "output_type": "stream",
     "text": [
      "delta=2.3055e-02\r"
     ]
    },
    {
     "ename": "KeyboardInterrupt",
     "evalue": "",
     "output_type": "error",
     "traceback": [
      "\u001b[0;31m---------------------------------------------------------------------------\u001b[0m",
      "\u001b[0;31mKeyboardInterrupt\u001b[0m                         Traceback (most recent call last)",
      "Input \u001b[0;32mIn [7]\u001b[0m, in \u001b[0;36m<cell line: 4>\u001b[0;34m()\u001b[0m\n\u001b[1;32m      5\u001b[0m reference \u001b[38;5;241m=\u001b[39m cavity_precs\u001b[38;5;241m.\u001b[39mcopy()\n\u001b[1;32m      6\u001b[0m \u001b[38;5;28;01mfor\u001b[39;00m k, j \u001b[38;5;129;01min\u001b[39;00m g\u001b[38;5;241m.\u001b[39mto_directed()\u001b[38;5;241m.\u001b[39medges:\n\u001b[0;32m----> 7\u001b[0m     cavity_precs[j, k] \u001b[38;5;241m=\u001b[39m \u001b[43mcavity_equation\u001b[49m\u001b[43m(\u001b[49m\u001b[43mm\u001b[49m\u001b[43m,\u001b[49m\u001b[43m \u001b[49m\u001b[43mg\u001b[49m\u001b[43m,\u001b[49m\u001b[43m \u001b[49m\u001b[43mcavity_precs\u001b[49m\u001b[43m,\u001b[49m\u001b[43m \u001b[49m\u001b[43mlam\u001b[49m\u001b[43m,\u001b[49m\u001b[43m \u001b[49m\u001b[43mk\u001b[49m\u001b[43m,\u001b[49m\u001b[43m \u001b[49m\u001b[43mj\u001b[49m\u001b[43m)\u001b[49m\n\u001b[1;32m      8\u001b[0m delta \u001b[38;5;241m=\u001b[39m np\u001b[38;5;241m.\u001b[39mmax(np\u001b[38;5;241m.\u001b[39mabs(cavity_precs \u001b[38;5;241m-\u001b[39m reference))\n\u001b[1;32m      9\u001b[0m \u001b[38;5;28mprint\u001b[39m(\u001b[38;5;124mf\u001b[39m\u001b[38;5;124m\"\u001b[39m\u001b[38;5;132;01m{\u001b[39;00mdelta\u001b[38;5;132;01m=:\u001b[39;00m\u001b[38;5;124m.4e\u001b[39m\u001b[38;5;132;01m}\u001b[39;00m\u001b[38;5;124m\"\u001b[39m, end\u001b[38;5;241m=\u001b[39m\u001b[38;5;124m\"\u001b[39m\u001b[38;5;130;01m\\r\u001b[39;00m\u001b[38;5;124m\"\u001b[39m)\n",
      "Input \u001b[0;32mIn [3]\u001b[0m, in \u001b[0;36mcavity_equation\u001b[0;34m(m, g, cav_precs, lam, k, j)\u001b[0m\n\u001b[1;32m      6\u001b[0m n_idxs \u001b[38;5;241m=\u001b[39m get_neighbors(g, k, j)\n\u001b[1;32m      7\u001b[0m n_weights \u001b[38;5;241m=\u001b[39m m[k, n_idxs]\u001b[38;5;241m*\u001b[39m\u001b[38;5;241m*\u001b[39m\u001b[38;5;241m2\u001b[39m\n\u001b[0;32m----> 8\u001b[0m prec_weights \u001b[38;5;241m=\u001b[39m \u001b[43mcav_precs\u001b[49m\u001b[43m[\u001b[49m\u001b[43mk\u001b[49m\u001b[43m,\u001b[49m\u001b[43m \u001b[49m\u001b[43mn_idxs\u001b[49m\u001b[43m]\u001b[49m\u001b[38;5;241m.\u001b[39mtodense()\n\u001b[1;32m     10\u001b[0m \u001b[38;5;28;01mreturn\u001b[39;00m epsilon \u001b[38;5;241m+\u001b[39m \u001b[38;5;241m1\u001b[39mj \u001b[38;5;241m*\u001b[39m lam \u001b[38;5;241m+\u001b[39m np\u001b[38;5;241m.\u001b[39msum(n_weights \u001b[38;5;241m/\u001b[39m prec_weights)\n",
      "File \u001b[0;32m~/sose2022/Advanced_Computational_Physics_Lab./proj2_disordered_systems/env/lib/python3.10/site-packages/scipy/sparse/_index.py:58\u001b[0m, in \u001b[0;36mIndexMixin.__getitem__\u001b[0;34m(self, key)\u001b[0m\n\u001b[1;32m     56\u001b[0m \u001b[38;5;28;01melif\u001b[39;00m col\u001b[38;5;241m.\u001b[39mndim \u001b[38;5;241m==\u001b[39m \u001b[38;5;241m1\u001b[39m:\n\u001b[1;32m     57\u001b[0m     \u001b[38;5;28mself\u001b[39m\u001b[38;5;241m.\u001b[39m_raise_on_1d_array_slice()\n\u001b[0;32m---> 58\u001b[0m     \u001b[38;5;28;01mreturn\u001b[39;00m \u001b[38;5;28;43mself\u001b[39;49m\u001b[38;5;241;43m.\u001b[39;49m\u001b[43m_get_intXarray\u001b[49m\u001b[43m(\u001b[49m\u001b[43mrow\u001b[49m\u001b[43m,\u001b[49m\u001b[43m \u001b[49m\u001b[43mcol\u001b[49m\u001b[43m)\u001b[49m\n\u001b[1;32m     59\u001b[0m \u001b[38;5;28;01melif\u001b[39;00m col\u001b[38;5;241m.\u001b[39mndim \u001b[38;5;241m==\u001b[39m \u001b[38;5;241m2\u001b[39m:\n\u001b[1;32m     60\u001b[0m     \u001b[38;5;28;01mreturn\u001b[39;00m \u001b[38;5;28mself\u001b[39m\u001b[38;5;241m.\u001b[39m_get_intXarray(row, col)\n",
      "File \u001b[0;32m~/sose2022/Advanced_Computational_Physics_Lab./proj2_disordered_systems/env/lib/python3.10/site-packages/scipy/sparse/_csr.py:280\u001b[0m, in \u001b[0;36mcsr_matrix._get_intXarray\u001b[0;34m(self, row, col)\u001b[0m\n\u001b[1;32m    279\u001b[0m \u001b[38;5;28;01mdef\u001b[39;00m \u001b[38;5;21m_get_intXarray\u001b[39m(\u001b[38;5;28mself\u001b[39m, row, col):\n\u001b[0;32m--> 280\u001b[0m     \u001b[38;5;28;01mreturn\u001b[39;00m \u001b[38;5;28;43mself\u001b[39;49m\u001b[38;5;241;43m.\u001b[39;49m\u001b[43mgetrow\u001b[49m\u001b[43m(\u001b[49m\u001b[43mrow\u001b[49m\u001b[43m)\u001b[49m\u001b[38;5;241m.\u001b[39m_minor_index_fancy(col)\n",
      "File \u001b[0;32m~/sose2022/Advanced_Computational_Physics_Lab./proj2_disordered_systems/env/lib/python3.10/site-packages/scipy/sparse/_csr.py:261\u001b[0m, in \u001b[0;36mcsr_matrix.getrow\u001b[0;34m(self, i)\u001b[0m\n\u001b[1;32m    258\u001b[0m     \u001b[38;5;28;01mraise\u001b[39;00m \u001b[38;5;167;01mIndexError\u001b[39;00m(\u001b[38;5;124m'\u001b[39m\u001b[38;5;124mindex (\u001b[39m\u001b[38;5;132;01m%d\u001b[39;00m\u001b[38;5;124m) out of range\u001b[39m\u001b[38;5;124m'\u001b[39m \u001b[38;5;241m%\u001b[39m i)\n\u001b[1;32m    259\u001b[0m indptr, indices, data \u001b[38;5;241m=\u001b[39m get_csr_submatrix(\n\u001b[1;32m    260\u001b[0m     M, N, \u001b[38;5;28mself\u001b[39m\u001b[38;5;241m.\u001b[39mindptr, \u001b[38;5;28mself\u001b[39m\u001b[38;5;241m.\u001b[39mindices, \u001b[38;5;28mself\u001b[39m\u001b[38;5;241m.\u001b[39mdata, i, i \u001b[38;5;241m+\u001b[39m \u001b[38;5;241m1\u001b[39m, \u001b[38;5;241m0\u001b[39m, N)\n\u001b[0;32m--> 261\u001b[0m \u001b[38;5;28;01mreturn\u001b[39;00m \u001b[38;5;28;43mself\u001b[39;49m\u001b[38;5;241;43m.\u001b[39;49m\u001b[38;5;18;43m__class__\u001b[39;49m\u001b[43m(\u001b[49m\u001b[43m(\u001b[49m\u001b[43mdata\u001b[49m\u001b[43m,\u001b[49m\u001b[43m \u001b[49m\u001b[43mindices\u001b[49m\u001b[43m,\u001b[49m\u001b[43m \u001b[49m\u001b[43mindptr\u001b[49m\u001b[43m)\u001b[49m\u001b[43m,\u001b[49m\u001b[43m \u001b[49m\u001b[43mshape\u001b[49m\u001b[38;5;241;43m=\u001b[39;49m\u001b[43m(\u001b[49m\u001b[38;5;241;43m1\u001b[39;49m\u001b[43m,\u001b[49m\u001b[43m \u001b[49m\u001b[43mN\u001b[49m\u001b[43m)\u001b[49m\u001b[43m,\u001b[49m\n\u001b[1;32m    262\u001b[0m \u001b[43m                      \u001b[49m\u001b[43mdtype\u001b[49m\u001b[38;5;241;43m=\u001b[39;49m\u001b[38;5;28;43mself\u001b[39;49m\u001b[38;5;241;43m.\u001b[39;49m\u001b[43mdtype\u001b[49m\u001b[43m,\u001b[49m\u001b[43m \u001b[49m\u001b[43mcopy\u001b[49m\u001b[38;5;241;43m=\u001b[39;49m\u001b[38;5;28;43;01mFalse\u001b[39;49;00m\u001b[43m)\u001b[49m\n",
      "File \u001b[0;32m~/sose2022/Advanced_Computational_Physics_Lab./proj2_disordered_systems/env/lib/python3.10/site-packages/scipy/sparse/_compressed.py:106\u001b[0m, in \u001b[0;36m_cs_matrix.__init__\u001b[0;34m(self, arg1, shape, dtype, copy)\u001b[0m\n\u001b[1;32m    103\u001b[0m \u001b[38;5;28;01mif\u001b[39;00m dtype \u001b[38;5;129;01mis\u001b[39;00m \u001b[38;5;129;01mnot\u001b[39;00m \u001b[38;5;28;01mNone\u001b[39;00m:\n\u001b[1;32m    104\u001b[0m     \u001b[38;5;28mself\u001b[39m\u001b[38;5;241m.\u001b[39mdata \u001b[38;5;241m=\u001b[39m \u001b[38;5;28mself\u001b[39m\u001b[38;5;241m.\u001b[39mdata\u001b[38;5;241m.\u001b[39mastype(dtype, copy\u001b[38;5;241m=\u001b[39m\u001b[38;5;28;01mFalse\u001b[39;00m)\n\u001b[0;32m--> 106\u001b[0m \u001b[38;5;28;43mself\u001b[39;49m\u001b[38;5;241;43m.\u001b[39;49m\u001b[43mcheck_format\u001b[49m\u001b[43m(\u001b[49m\u001b[43mfull_check\u001b[49m\u001b[38;5;241;43m=\u001b[39;49m\u001b[38;5;28;43;01mFalse\u001b[39;49;00m\u001b[43m)\u001b[49m\n",
      "File \u001b[0;32m~/sose2022/Advanced_Computational_Physics_Lab./proj2_disordered_systems/env/lib/python3.10/site-packages/scipy/sparse/_compressed.py:171\u001b[0m, in \u001b[0;36m_cs_matrix.check_format\u001b[0;34m(self, full_check)\u001b[0m\n\u001b[1;32m    168\u001b[0m \u001b[38;5;28;01mif\u001b[39;00m (\u001b[38;5;28mlen\u001b[39m(\u001b[38;5;28mself\u001b[39m\u001b[38;5;241m.\u001b[39mindptr) \u001b[38;5;241m!=\u001b[39m major_dim \u001b[38;5;241m+\u001b[39m \u001b[38;5;241m1\u001b[39m):\n\u001b[1;32m    169\u001b[0m     \u001b[38;5;28;01mraise\u001b[39;00m \u001b[38;5;167;01mValueError\u001b[39;00m(\u001b[38;5;124m\"\u001b[39m\u001b[38;5;124mindex pointer size (\u001b[39m\u001b[38;5;132;01m{}\u001b[39;00m\u001b[38;5;124m) should be (\u001b[39m\u001b[38;5;132;01m{}\u001b[39;00m\u001b[38;5;124m)\u001b[39m\u001b[38;5;124m\"\u001b[39m\n\u001b[1;32m    170\u001b[0m                      \u001b[38;5;124m\"\u001b[39m\u001b[38;5;124m\"\u001b[39m\u001b[38;5;241m.\u001b[39mformat(\u001b[38;5;28mlen\u001b[39m(\u001b[38;5;28mself\u001b[39m\u001b[38;5;241m.\u001b[39mindptr), major_dim \u001b[38;5;241m+\u001b[39m \u001b[38;5;241m1\u001b[39m))\n\u001b[0;32m--> 171\u001b[0m \u001b[38;5;28;01mif\u001b[39;00m (\u001b[38;5;28mself\u001b[39m\u001b[38;5;241m.\u001b[39mindptr[\u001b[38;5;241m0\u001b[39m] \u001b[38;5;241m!=\u001b[39m \u001b[38;5;241m0\u001b[39m):\n\u001b[1;32m    172\u001b[0m     \u001b[38;5;28;01mraise\u001b[39;00m \u001b[38;5;167;01mValueError\u001b[39;00m(\u001b[38;5;124m\"\u001b[39m\u001b[38;5;124mindex pointer should start with 0\u001b[39m\u001b[38;5;124m\"\u001b[39m)\n\u001b[1;32m    174\u001b[0m \u001b[38;5;66;03m# check index and data arrays\u001b[39;00m\n",
      "\u001b[0;31mKeyboardInterrupt\u001b[0m: "
     ]
    }
   ],
   "source": [
    "tol = 1e-10\n",
    "delta = np.inf\n",
    "\n",
    "while delta > tol:\n",
    "    reference = cavity_precs.copy()\n",
    "    for k, j in g.to_directed().edges:\n",
    "        cavity_precs[j, k] = cavity_equation(m, g, cavity_precs, lam, k, j)\n",
    "    delta = np.max(np.abs(cavity_precs - reference))\n",
    "    print(f\"{delta=:.4e}\", end=\"\\r\")"
   ]
  },
  {
   "cell_type": "markdown",
   "id": "4fa93012",
   "metadata": {},
   "source": [
    "### Show the distributions of Marginal Cavity Precisions"
   ]
  },
  {
   "cell_type": "code",
   "execution_count": null,
   "id": "3c5b17af",
   "metadata": {},
   "outputs": [],
   "source": [
    "plt.hist(np.array(cavity_precs[cavity_precs.nonzero()]).flatten().real, bins=n // 2)\n",
    "plt.savefig(figure_dir / \"ex2_cavity_precs_real.pdf\")"
   ]
  },
  {
   "cell_type": "code",
   "execution_count": null,
   "id": "953347ed",
   "metadata": {},
   "outputs": [],
   "source": [
    "plt.hist(np.array(cavity_precs[cavity_precs.nonzero()]).flatten().imag, bins=n // 2)\n",
    "plt.savefig(figure_dir / \"ex2_cavity_precs_imag.pdf\")"
   ]
  },
  {
   "cell_type": "markdown",
   "id": "1d1f16e1",
   "metadata": {},
   "source": [
    "### Calculate the Marginal Precisions"
   ]
  },
  {
   "cell_type": "code",
   "execution_count": null,
   "id": "920af982",
   "metadata": {},
   "outputs": [],
   "source": [
    "marginals = np.sum(cavity_precs, axis=1)  # type: ignore\n",
    "print(marginals)"
   ]
  },
  {
   "cell_type": "code",
   "execution_count": null,
   "id": "860fa7df",
   "metadata": {},
   "outputs": [],
   "source": [
    "plt.hist(marginals.real)\n",
    "plt.savefig(figure_dir / \"ex2_marginal_precs_real.pdf\")"
   ]
  },
  {
   "cell_type": "markdown",
   "id": "9c6bd6a6",
   "metadata": {},
   "source": [
    "### Calculate the spectral density"
   ]
  },
  {
   "cell_type": "code",
   "execution_count": null,
   "id": "ea8c0142",
   "metadata": {},
   "outputs": [],
   "source": [
    "G_ii = 1j / marginals\n",
    "rho_lambda = G_ii.imag.mean() / np.pi\n",
    "print(rho_lambda)"
   ]
  },
  {
   "cell_type": "markdown",
   "id": "1ca18957",
   "metadata": {},
   "source": [
    "### Sweep over different $\\lambda$"
   ]
  },
  {
   "cell_type": "code",
   "execution_count": null,
   "id": "824018f9",
   "metadata": {},
   "outputs": [],
   "source": [
    "lambdas = np.linspace(-3, 3, num=25)\n",
    "\n",
    "def spectral_density(lam):\n",
    "    cavity_precs = init_cavity_precs(g)\n",
    "\n",
    "    delta = np.inf\n",
    "    while delta > tol:\n",
    "        reference = cavity_precs.copy()\n",
    "        for k, j in g.to_directed().edges:\n",
    "            cavity_precs[j, k] = cavity_equation(m, g, cavity_precs, lam, k, j)\n",
    "        delta = np.max(np.abs(cavity_precs - reference))\n",
    "\n",
    "    marginals = np.sum(cavity_precs, axis=1)  # type: ignore\n",
    "    G_ii = 1j / marginals\n",
    "    rho_lambda = G_ii.imag.mean() / np.pi\n",
    "    return rho_lambda\n",
    "\n",
    "spectrum = tqdm.contrib.concurrent.process_map(spectral_density, lambdas)"
   ]
  },
  {
   "cell_type": "code",
   "execution_count": null,
   "id": "ae6de89c",
   "metadata": {},
   "outputs": [],
   "source": [
    "plt.plot(spectrum)"
   ]
  }
 ],
 "metadata": {
  "jupytext": {
   "cell_metadata_filter": "-all",
   "notebook_metadata_filter": "-all"
  },
  "kernelspec": {
   "display_name": "Python 3 (ipykernel)",
   "language": "python",
   "name": "python3"
  },
  "language_info": {
   "codemirror_mode": {
    "name": "ipython",
    "version": 3
   },
   "file_extension": ".py",
   "mimetype": "text/x-python",
   "name": "python",
   "nbconvert_exporter": "python",
   "pygments_lexer": "ipython3",
   "version": "3.10.7"
  }
 },
 "nbformat": 4,
 "nbformat_minor": 5
}
