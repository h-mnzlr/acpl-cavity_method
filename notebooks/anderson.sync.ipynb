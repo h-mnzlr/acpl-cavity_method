{
 "cells": [
  {
   "cell_type": "markdown",
   "id": "71292a90",
   "metadata": {},
   "source": [
    "# Exercise 3 - Anderson model on RRG"
   ]
  },
  {
   "cell_type": "code",
   "execution_count": 1,
   "id": "54e714a5",
   "metadata": {},
   "outputs": [],
   "source": [
    "from pathlib import Path\n",
    "from functools import partial\n",
    "import itertools\n",
    "\n",
    "import numpy as np\n",
    "import networkx as nx\n",
    "import scipy.sparse\n",
    "from tqdm.notebook import tqdm as tqdm_\n",
    "import tqdm.contrib.concurrent\n",
    "\n",
    "import matplotlib.pyplot as plt\n",
    "\n",
    "import disordered_sys.anderson"
   ]
  },
  {
   "cell_type": "code",
   "execution_count": 2,
   "id": "9c69706c",
   "metadata": {},
   "outputs": [
    {
     "name": "stderr",
     "output_type": "stream",
     "text": [
      "/net/theorie/home/heikogeorg.menzler/projects/acpl-cavity_method/code/disordered_sys/anderson.py:21: FutureWarning: adjacency_matrix will return a scipy.sparse array instead of a matrix in Networkx 3.0.\n",
      "  adj_matrix = nx.adjacency_matrix(conn_graph)\n"
     ]
    },
    {
     "data": {
      "image/png": "[encoded data removed]",
      "text/plain": [
       "<Figure size 432x288 with 1 Axes>"
      ]
     },
     "metadata": {
      "needs_background": "light"
     },
     "output_type": "display_data"
    }
   ],
   "source": [
    "# make experiments reproducible\n",
    "np.random.seed(42)\n",
    "\n",
    "c = 3\n",
    "w = .3\n",
    "size = 2**10\n",
    "g = disordered_sys.anderson.graph(conn=c, size=size)\n",
    "h = disordered_sys.anderson.hamiltonian(g, w=w)\n",
    "\n",
    "figure_dir = Path.cwd() / \"..\" / \"report\" / \"figures\"\n",
    "plt.rcParams['figure.dpi'] = 159\n",
    "plt.rcParams['savefig.dpi'] = 300\n",
    "plt.rcParams['font.size'] = 18\n",
    "\n",
    "plt.spy(h)\n",
    "plt.show()"
   ]
  },
  {
   "cell_type": "markdown",
   "id": "4c49b191",
   "metadata": {},
   "source": [
    "# Spectrum from direct diagonalization"
   ]
  },
  {
   "cell_type": "code",
   "execution_count": 3,
   "id": "4e01d1b1",
   "metadata": {},
   "outputs": [
    {
     "data": {
      "image/png": "[encoded data removed]",
      "text/plain": [
       "<Figure size 432x288 with 1 Axes>"
      ]
     },
     "metadata": {
      "needs_background": "light"
     },
     "output_type": "display_data"
    }
   ],
   "source": [
    "vals = np.linalg.eigvalsh(h)\n",
    "plt.hist(vals, stacked=True, density=True, bins=size // 10)\n",
    "plt.xlabel(\"$\\\\lambda$\")\n",
    "plt.ylabel(\"$\\\\rho(\\\\lambda)$\")\n",
    "plt.savefig(figure_dir / \"ex3_spectrum_exact_diag.pdf\")"
   ]
  },
  {
   "cell_type": "markdown",
   "id": "3733e773",
   "metadata": {},
   "source": [
    "# Spectrum from cavity method"
   ]
  },
  {
   "cell_type": "code",
   "execution_count": 4,
   "id": "2d17d47d",
   "metadata": {},
   "outputs": [],
   "source": [
    "tol = 1e-4\n",
    "max_steps = 100\n",
    "\n",
    "def get_neighbors(g, k, j=-1):\n",
    "    neighbors_set = set(g.neighbors(k)) - {j}\n",
    "    return np.array(list(neighbors_set))\n",
    "\n",
    "def cavity_equation(h, g, cav_precs, lam, k, j=-1):\n",
    "    n_idxs = get_neighbors(g, k, j)\n",
    "    e_weight = h[k, k]\n",
    "    prec_weights = cav_precs[k, n_idxs].todense()\n",
    "\n",
    "    return 1j * (-1j * epsilon + lam - e_weight) + np.sum(1 / prec_weights)\n",
    "\n",
    "def init_cavity_precs(g):\n",
    "    cavity_init = np.random.uniform(size=len(g.edges) * 2) + 1j * np.random.uniform(size=len(g.edges) * 2)\n",
    "    adj_mat = nx.to_scipy_sparse_array(g, nodelist=sorted(list(g.nodes())))\n",
    "    cavity_init = adj_mat[adj_mat.nonzero()] * cavity_init\n",
    "    cavity_precs = scipy.sparse.coo_matrix((cavity_init, adj_mat.nonzero()))\n",
    "    cavity_precs = cavity_precs.tocsr(copy=False)\n",
    "    return cavity_precs\n",
    "\n",
    "def spectral_density(lam):\n",
    "    cavity_precs = init_cavity_precs(g)\n",
    "\n",
    "    delta = np.inf\n",
    "    steps = 0\n",
    "    while delta > tol and steps < max_steps:\n",
    "        reference = cavity_precs.copy()\n",
    "        for k, j in g.to_directed().edges:\n",
    "            cavity_precs[j, k] = cavity_equation(h, g, cavity_precs, lam, k, j)\n",
    "        delta = np.max(np.abs(cavity_precs - reference))\n",
    "        steps += 1\n",
    "\n",
    "\n",
    "    marginals = np.mean(cavity_precs, axis=1)  # type: ignore\n",
    "\n",
    "    delta = np.inf\n",
    "    steps = 0\n",
    "    while delta > tol and steps < max_steps:\n",
    "        reference = marginals.copy()\n",
    "        for k in g.nodes:\n",
    "            marginals[k] = cavity_equation(h, g, cavity_precs, lam, k)\n",
    "        delta = np.max(np.abs(marginals - reference))\n",
    "        steps += 1\n",
    "    \n",
    "    G_ii = 1j / marginals\n",
    "    rho_lambda = G_ii.imag.mean() / np.pi\n",
    "    return rho_lambda"
   ]
  },
  {
   "cell_type": "code",
   "execution_count": 5,
   "id": "7f650e60",
   "metadata": {},
   "outputs": [
    {
     "data": {
      "application/vnd.jupyter.widget-view+json": {
       "model_id": "010ffd40e5c645df8a64e0ce5c3a5a98",
       "version_major": 2,
       "version_minor": 0
      },
      "text/plain": [
       "  0%|          | 0/50 [00:00<?, ?it/s]"
      ]
     },
     "metadata": {},
     "output_type": "display_data"
    }
   ],
   "source": [
    "epsilon = 1e-3\n",
    "lambdas = np.linspace(-4, 4, num=50)\n",
    "spectrum = tqdm.contrib.concurrent.process_map(spectral_density, lambdas)"
   ]
  },
  {
   "cell_type": "code",
   "execution_count": 6,
   "id": "4c46696d",
   "metadata": {},
   "outputs": [
    {
     "data": {
      "image/png": "[encoded data removed]",
      "text/plain": [
       "<Figure size 432x288 with 1 Axes>"
      ]
     },
     "metadata": {
      "needs_background": "light"
     },
     "output_type": "display_data"
    }
   ],
   "source": [
    "plt.plot(lambdas, spectrum)\n",
    "plt.title(\"Spectral density from cavity method\")\n",
    "plt.xlabel(\"$\\\\lambda$\")\n",
    "plt.ylabel(\"$\\\\rho(\\\\lambda)$\")\n",
    "plt.savefig(figure_dir / \"ex3_spectrum_cavity.pdf\")"
   ]
  },
  {
   "cell_type": "markdown",
   "id": "7291a361",
   "metadata": {},
   "source": [
    "# Spectrum from population method"
   ]
  },
  {
   "cell_type": "code",
   "execution_count": 7,
   "id": "68cce1c2",
   "metadata": {},
   "outputs": [
    {
     "data": {
      "image/png": "[encoded data removed]",
      "text/plain": [
       "<Figure size 432x288 with 1 Axes>"
      ]
     },
     "metadata": {
      "needs_background": "light"
     },
     "output_type": "display_data"
    }
   ],
   "source": [
    "def init_pop_marginals(n):\n",
    "    pop_init = np.random.uniform(size=n) + 1j * np.random.uniform(size=n)\n",
    "    return pop_init\n",
    "\n",
    "def population_equation(pop, lam, w):\n",
    "    energy = np.random.uniform(low=-w/2, high=w/2)\n",
    "    return 1j * (lam - 1j * epsilon - energy) + np.sum(1 / pop)\n",
    "\n",
    "\n",
    "example_init = init_pop_marginals(len(g.nodes))\n",
    "plt.hist(example_init.real, alpha=.5)\n",
    "plt.hist(example_init.imag, alpha=.5)\n",
    "plt.savefig(figure_dir / \"ex3_pop_init_distribution_example.pdf\")"
   ]
  },
  {
   "cell_type": "code",
   "execution_count": 8,
   "id": "27a7b376",
   "metadata": {},
   "outputs": [],
   "source": [
    "n_p = 1_000\n",
    "tol = 1e-3\n",
    "epsilon = 1e-3\n",
    "max_sweeps = 200\n",
    "\n",
    "def spectral_density_pop(lam=0, n_p=n_p, w=w, return_g=False, return_G=False):\n",
    "    population = init_pop_marginals(n_p)\n",
    "\n",
    "    delta = np.inf\n",
    "    steps = 0\n",
    "    reference = population.mean()\n",
    "    while delta > tol and steps < max_sweeps:\n",
    "        \n",
    "        for _ in range(n_p):    \n",
    "            target = np.random.randint(low=0, high=n_p)\n",
    "            pop_indices = np.random.randint(low=0, high=n_p, size=c-1)\n",
    "            population[target] = population_equation(population[pop_indices], lam, w)\n",
    "        \n",
    "        delta = np.abs(- reference + (reference:=population.mean()))\n",
    "        steps += 1\n",
    "                                              \n",
    "    marginals = np.zeros(size, dtype=np.complex64)\n",
    "    for target_marg in range(size):\n",
    "        pop_indices = np.random.randint(low=0, high=n_p, size=c)\n",
    "        marginals[target_marg] = population_equation(population[pop_indices], lam, w)\n",
    "        \n",
    "        target_pop = np.random.randint(low=0, high=n_p)\n",
    "        pop_indices = np.random.randint(low=0, high=n_p, size=c-1)\n",
    "        population[target_pop] = population_equation(population[pop_indices], lam, w)\n",
    "        \n",
    "    G_ii = 1j / marginals\n",
    "    rho_lambda = G_ii.imag.mean() / np.pi\n",
    "    \n",
    "    if return_g: return 1j / population\n",
    "    if return_G: return G_ii\n",
    "    return rho_lambda"
   ]
  },
  {
   "cell_type": "code",
   "execution_count": 9,
   "id": "2ac6e5c7",
   "metadata": {
    "scrolled": false
   },
   "outputs": [
    {
     "data": {
      "application/vnd.jupyter.widget-view+json": {
       "model_id": "cf4b6f1f192b4040b8c758cc9fdfd9ee",
       "version_major": 2,
       "version_minor": 0
      },
      "text/plain": [
       "  0%|          | 0/50 [00:00<?, ?it/s]"
      ]
     },
     "metadata": {},
     "output_type": "display_data"
    },
    {
     "data": {
      "image/png": "[encoded data removed]",
      "text/plain": [
       "<Figure size 432x288 with 1 Axes>"
      ]
     },
     "metadata": {
      "needs_background": "light"
     },
     "output_type": "display_data"
    }
   ],
   "source": [
    "lambdas = np.linspace(-4, 4, num=50)\n",
    "spectrum = tqdm.contrib.concurrent.process_map(spectral_density_pop, lambdas)\n",
    "plt.plot(lambdas, spectrum)\n",
    "plt.title(\"Spectrum from population method\")\n",
    "plt.xlabel(\"$\\\\lambda$\")\n",
    "plt.ylabel(\"$\\\\rho(\\\\lambda)$\")\n",
    "plt.savefig(figure_dir / \"ex3_spectrum_population.pdf\")"
   ]
  },
  {
   "cell_type": "code",
   "execution_count": 10,
   "id": "693d0c0a",
   "metadata": {},
   "outputs": [
    {
     "data": {
      "application/vnd.jupyter.widget-view+json": {
       "model_id": "a5fd4ffdff2c43f1a267e34b27b43e82",
       "version_major": 2,
       "version_minor": 0
      },
      "text/plain": [
       "  0%|          | 0/32 [00:00<?, ?it/s]"
      ]
     },
     "metadata": {},
     "output_type": "display_data"
    },
    {
     "data": {
      "application/vnd.jupyter.widget-view+json": {
       "model_id": "a7e1c5fa3b1e4f66bc9d6559d04f9d9f",
       "version_major": 2,
       "version_minor": 0
      },
      "text/plain": [
       "  0%|          | 0/32 [00:00<?, ?it/s]"
      ]
     },
     "metadata": {},
     "output_type": "display_data"
    },
    {
     "data": {
      "application/vnd.jupyter.widget-view+json": {
       "model_id": "853f0840a7924d6a984bdc28cec990fc",
       "version_major": 2,
       "version_minor": 0
      },
      "text/plain": [
       "  0%|          | 0/32 [00:00<?, ?it/s]"
      ]
     },
     "metadata": {},
     "output_type": "display_data"
    },
    {
     "data": {
      "image/png": "[encoded data removed]",
      "text/plain": [
       "<Figure size 432x288 with 1 Axes>"
      ]
     },
     "metadata": {
      "needs_background": "light"
     },
     "output_type": "display_data"
    }
   ],
   "source": [
    "n_ps = [100, 500, 1_000]\n",
    "lam = 0\n",
    "epsilon = 1e-300\n",
    "ws = np.linspace(10, 20, num=32)  # i got 32 cpus lol\n",
    "for n_p in n_ps:\n",
    "    g_typ_exp = partial(spectral_density_pop, lam, n_p, return_g=True)\n",
    "    g_dist = tqdm.contrib.concurrent.process_map(g_typ_exp, ws)\n",
    "    g_typ = map(lambda gs: np.exp(np.log(gs.imag).mean()), g_dist)\n",
    "    plt.scatter(ws, list(g_typ), label=f\"{n_p=:.0e}\")\n",
    "\n",
    "    \n",
    "plt.yscale(\"log\")\n",
    "plt.legend()\n",
    "plt.ylabel(\"$g^{\\\\mathrm{typ}}$\")\n",
    "plt.xlabel(\"W\")\n",
    "plt.title(\"Behaviour of $g^{\\\\mathrm{typ}}$ at $\\\\lambda=0$\")\n",
    "plt.savefig(figure_dir / \"ex3_population_method_scaling.pdf\")"
   ]
  },
  {
   "cell_type": "code",
   "execution_count": 11,
   "id": "b65edd94",
   "metadata": {},
   "outputs": [
    {
     "data": {
      "application/vnd.jupyter.widget-view+json": {
       "model_id": "8cf80045747548cb80f78be4d7747d12",
       "version_major": 2,
       "version_minor": 0
      },
      "text/plain": [
       "  0%|          | 0/2 [00:00<?, ?it/s]"
      ]
     },
     "metadata": {},
     "output_type": "display_data"
    }
   ],
   "source": [
    "n_p = 1_000\n",
    "lam = 0\n",
    "ws = [2, 20]\n",
    "epsilon = 1e-6\n",
    "\n",
    "G_typ_exp = partial(spectral_density_pop, lam, n_p, return_G=True)\n",
    "extended, localized = tqdm.contrib.concurrent.process_map(G_typ_exp, ws)"
   ]
  },
  {
   "cell_type": "code",
   "execution_count": 16,
   "id": "d8d5b6c4",
   "metadata": {
    "scrolled": false
   },
   "outputs": [
    {
     "data": {
      "image/png": "[encoded data removed]",
      "text/plain": [
       "<Figure size 432x288 with 1 Axes>"
      ]
     },
     "metadata": {
      "needs_background": "light"
     },
     "output_type": "display_data"
    }
   ],
   "source": [
    "plt.hist(extended.imag, density=True, stacked=True, label=\"extended\")\n",
    "plt.hist(localized.imag, density=True, stacked=True, label=\"localized\")\n",
    "plt.xlabel(\"$\\\\mathrm{Im}\\\\mathrm{G}_{i i}$\")\n",
    "plt.ylabel(\"$P(\\\\mathrm{Im}\\\\mathrm{G}_{i i})$\")\n",
    "#plt.xlim(0, 2)\n",
    "plt.title(\"Distribution of Marginal Variances of a localized and an extended state\")\n",
    "plt.legend()\n",
    "plt.savefig(figure_dir / \"ex3_typical_marginal_dists.pdf\")"
   ]
  },
  {
   "cell_type": "code",
   "execution_count": 13,
   "id": "b7c4d993",
   "metadata": {},
   "outputs": [
    {
     "data": {
      "application/vnd.jupyter.widget-view+json": {
       "model_id": "fc4e47d4a5e641a8a5d90d933473ea16",
       "version_major": 2,
       "version_minor": 0
      },
      "text/plain": [
       "  0%|          | 0/30 [00:00<?, ?it/s]"
      ]
     },
     "metadata": {},
     "output_type": "display_data"
    },
    {
     "name": "stderr",
     "output_type": "stream",
     "text": [
      "/net/theorie/home/heikogeorg.menzler/projects/acpl-cavity_method/code/disordered_sys/anderson.py:21: FutureWarning: adjacency_matrix will return a scipy.sparse array instead of a matrix in Networkx 3.0.\n",
      "  adj_matrix = nx.adjacency_matrix(conn_graph)\n"
     ]
    }
   ],
   "source": [
    "np.random.seed(42)\n",
    "sizes = [2 ** 10, 2 ** 11, 2 ** 12]\n",
    "eps_env = .15\n",
    "ws = np.linspace(5, 10, num=10)\n",
    "\n",
    "def inverse_participation_ratio(vec, axis=-1):\n",
    "    to_the_fourth = vec * vec * vec * vec\n",
    "    squared = vec * vec\n",
    "    return np.sum(to_the_fourth, axis=axis) / np.sum(squared, axis=axis)\n",
    "\n",
    "exp_results = {}\n",
    "for w, size in tqdm_(itertools.product(ws, sizes), total=3 * 10):  # cannot paralleize this :(\n",
    "    g = disordered_sys.anderson.graph(conn=c, size=size)\n",
    "    h = disordered_sys.anderson.hamiltonian(g, w=w)\n",
    "    \n",
    "    vals, vecs = np.linalg.eigh(h)\n",
    "    \n",
    "    env_mask = np.logical_and(-eps_env < vals, vals < eps_env)\n",
    "    vecs_in_env = np.array(vecs[env_mask]) \n",
    "    \n",
    "    assert vecs_in_env.shape[0] >= 10, \"Not using enough vectors, increse epsilon environment size\"\n",
    "    \n",
    "    mean_ipr = inverse_participation_ratio(vecs_in_env).mean() * size\n",
    "    exp_results[w, size] = mean_ipr"
   ]
  },
  {
   "cell_type": "code",
   "execution_count": 14,
   "id": "057893d5",
   "metadata": {},
   "outputs": [
    {
     "data": {
      "image/png": "[encoded data removed]",
      "text/plain": [
       "<Figure size 432x288 with 1 Axes>"
      ]
     },
     "metadata": {
      "needs_background": "light"
     },
     "output_type": "display_data"
    }
   ],
   "source": [
    "small = [exp_results[w, sizes[0]] for w in ws]\n",
    "med = [exp_results[w, sizes[1]] for w in ws]\n",
    "big = [exp_results[w, sizes[2]] for w in ws]\n",
    "\n",
    "plt.scatter(ws, small, label=f\"N={sizes[0]}\")\n",
    "plt.scatter(ws, med, label=f\"N={sizes[1]}\")\n",
    "plt.scatter(ws, big, label=f\"N={sizes[2]}\")\n",
    "plt.legend()\n",
    "plt.title(\"Mean Inverse Participation Ration around $\\\\lambda = 0$\")\n",
    "plt.xlabel(\"$W$\")\n",
    "plt.ylabel(\"$\\\\langle N I_2\\\\rangle$\")\n",
    "plt.savefig(figure_dir / \"ex3_inverse_particitpation_ratio.pdf\")"
   ]
  }
 ],
 "metadata": {
  "kernelspec": {
   "display_name": "Python 3 (ipykernel)",
   "language": "python",
   "name": "python3"
  },
  "language_info": {
   "codemirror_mode": {
    "name": "ipython",
    "version": 3
   },
   "file_extension": ".py",
   "mimetype": "text/x-python",
   "name": "python",
   "nbconvert_exporter": "python",
   "pygments_lexer": "ipython3",
   "version": "3.10.6"
  }
 },
 "nbformat": 4,
 "nbformat_minor": 5
}
